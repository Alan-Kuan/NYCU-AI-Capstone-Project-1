{
 "cells": [
  {
   "cell_type": "markdown",
   "id": "20e0b8ca",
   "metadata": {
    "papermill": {
     "duration": 0.027621,
     "end_time": "2022-03-06T11:51:07.507479",
     "exception": false,
     "start_time": "2022-03-06T11:51:07.479858",
     "status": "completed"
    },
    "tags": []
   },
   "source": [
    "# AI Capstone: Project 1\n",
    "## *with a public non-image dataset*\n",
    "Author: 0816066 官澔恩\n",
    "\n",
    "Dataset Source: [Kaggle](https://www.kaggle.com/fedesoriano/stellar-classification-dataset-sdss17)"
   ]
  },
  {
   "cell_type": "code",
   "execution_count": 1,
   "id": "7cdea9c4",
   "metadata": {
    "_cell_guid": "b1076dfc-b9ad-4769-8c92-a6c4dae69d19",
    "_uuid": "8f2839f25d086af736a60e9eeb907d3b93b6e0e5",
    "execution": {
     "iopub.execute_input": "2022-03-06T11:51:07.561995Z",
     "iopub.status.busy": "2022-03-06T11:51:07.560773Z",
     "iopub.status.idle": "2022-03-06T11:51:09.053346Z",
     "shell.execute_reply": "2022-03-06T11:51:09.052269Z",
     "shell.execute_reply.started": "2022-03-06T11:47:17.044298Z"
    },
    "papermill": {
     "duration": 1.521051,
     "end_time": "2022-03-06T11:51:09.053525",
     "exception": false,
     "start_time": "2022-03-06T11:51:07.532474",
     "status": "completed"
    },
    "tags": []
   },
   "outputs": [],
   "source": [
    "import numpy as np\n",
    "import pandas as pd\n",
    "import matplotlib.pyplot as plt\n",
    "from IPython.display import display, Markdown\n",
    "\n",
    "from imblearn.under_sampling import RandomUnderSampler\n",
    "\n",
    "from sklearn.preprocessing import LabelEncoder, MinMaxScaler\n",
    "from sklearn.decomposition import PCA\n",
    "from sklearn.model_selection import train_test_split, cross_validate, ParameterGrid\n",
    "from sklearn.metrics import confusion_matrix, classification_report\n",
    "\n",
    "from sklearn.neighbors import KNeighborsClassifier\n",
    "from sklearn.ensemble import RandomForestClassifier\n",
    "from sklearn.svm import SVC\n",
    "from sklearn.neural_network import MLPClassifier"
   ]
  },
  {
   "cell_type": "markdown",
   "id": "20b1d3cc",
   "metadata": {
    "papermill": {
     "duration": 0.024753,
     "end_time": "2022-03-06T11:51:09.103521",
     "exception": false,
     "start_time": "2022-03-06T11:51:09.078768",
     "status": "completed"
    },
    "tags": []
   },
   "source": [
    "# Data Preprocessing"
   ]
  },
  {
   "cell_type": "code",
   "execution_count": 2,
   "id": "eebc451d",
   "metadata": {
    "execution": {
     "iopub.execute_input": "2022-03-06T11:51:09.158932Z",
     "iopub.status.busy": "2022-03-06T11:51:09.157830Z",
     "iopub.status.idle": "2022-03-06T11:51:09.697726Z",
     "shell.execute_reply": "2022-03-06T11:51:09.698326Z",
     "shell.execute_reply.started": "2022-03-06T11:47:17.851677Z"
    },
    "papermill": {
     "duration": 0.569424,
     "end_time": "2022-03-06T11:51:09.698515",
     "exception": false,
     "start_time": "2022-03-06T11:51:09.129091",
     "status": "completed"
    },
    "tags": []
   },
   "outputs": [
    {
     "data": {
      "text/html": [
       "<div>\n",
       "<style scoped>\n",
       "    .dataframe tbody tr th:only-of-type {\n",
       "        vertical-align: middle;\n",
       "    }\n",
       "\n",
       "    .dataframe tbody tr th {\n",
       "        vertical-align: top;\n",
       "    }\n",
       "\n",
       "    .dataframe thead th {\n",
       "        text-align: right;\n",
       "    }\n",
       "</style>\n",
       "<table border=\"1\" class=\"dataframe\">\n",
       "  <thead>\n",
       "    <tr style=\"text-align: right;\">\n",
       "      <th></th>\n",
       "      <th>obj_ID</th>\n",
       "      <th>alpha</th>\n",
       "      <th>delta</th>\n",
       "      <th>u</th>\n",
       "      <th>g</th>\n",
       "      <th>r</th>\n",
       "      <th>i</th>\n",
       "      <th>z</th>\n",
       "      <th>run_ID</th>\n",
       "      <th>rerun_ID</th>\n",
       "      <th>cam_col</th>\n",
       "      <th>field_ID</th>\n",
       "      <th>spec_obj_ID</th>\n",
       "      <th>class</th>\n",
       "      <th>redshift</th>\n",
       "      <th>plate</th>\n",
       "      <th>MJD</th>\n",
       "      <th>fiber_ID</th>\n",
       "    </tr>\n",
       "  </thead>\n",
       "  <tbody>\n",
       "    <tr>\n",
       "      <th>0</th>\n",
       "      <td>1.237661e+18</td>\n",
       "      <td>135.689107</td>\n",
       "      <td>32.494632</td>\n",
       "      <td>23.87882</td>\n",
       "      <td>22.27530</td>\n",
       "      <td>20.39501</td>\n",
       "      <td>19.16573</td>\n",
       "      <td>18.79371</td>\n",
       "      <td>3606</td>\n",
       "      <td>301</td>\n",
       "      <td>2</td>\n",
       "      <td>79</td>\n",
       "      <td>6.543777e+18</td>\n",
       "      <td>GALAXY</td>\n",
       "      <td>0.634794</td>\n",
       "      <td>5812</td>\n",
       "      <td>56354</td>\n",
       "      <td>171</td>\n",
       "    </tr>\n",
       "    <tr>\n",
       "      <th>1</th>\n",
       "      <td>1.237665e+18</td>\n",
       "      <td>144.826101</td>\n",
       "      <td>31.274185</td>\n",
       "      <td>24.77759</td>\n",
       "      <td>22.83188</td>\n",
       "      <td>22.58444</td>\n",
       "      <td>21.16812</td>\n",
       "      <td>21.61427</td>\n",
       "      <td>4518</td>\n",
       "      <td>301</td>\n",
       "      <td>5</td>\n",
       "      <td>119</td>\n",
       "      <td>1.176014e+19</td>\n",
       "      <td>GALAXY</td>\n",
       "      <td>0.779136</td>\n",
       "      <td>10445</td>\n",
       "      <td>58158</td>\n",
       "      <td>427</td>\n",
       "    </tr>\n",
       "    <tr>\n",
       "      <th>2</th>\n",
       "      <td>1.237661e+18</td>\n",
       "      <td>142.188790</td>\n",
       "      <td>35.582444</td>\n",
       "      <td>25.26307</td>\n",
       "      <td>22.66389</td>\n",
       "      <td>20.60976</td>\n",
       "      <td>19.34857</td>\n",
       "      <td>18.94827</td>\n",
       "      <td>3606</td>\n",
       "      <td>301</td>\n",
       "      <td>2</td>\n",
       "      <td>120</td>\n",
       "      <td>5.152200e+18</td>\n",
       "      <td>GALAXY</td>\n",
       "      <td>0.644195</td>\n",
       "      <td>4576</td>\n",
       "      <td>55592</td>\n",
       "      <td>299</td>\n",
       "    </tr>\n",
       "    <tr>\n",
       "      <th>3</th>\n",
       "      <td>1.237663e+18</td>\n",
       "      <td>338.741038</td>\n",
       "      <td>-0.402828</td>\n",
       "      <td>22.13682</td>\n",
       "      <td>23.77656</td>\n",
       "      <td>21.61162</td>\n",
       "      <td>20.50454</td>\n",
       "      <td>19.25010</td>\n",
       "      <td>4192</td>\n",
       "      <td>301</td>\n",
       "      <td>3</td>\n",
       "      <td>214</td>\n",
       "      <td>1.030107e+19</td>\n",
       "      <td>GALAXY</td>\n",
       "      <td>0.932346</td>\n",
       "      <td>9149</td>\n",
       "      <td>58039</td>\n",
       "      <td>775</td>\n",
       "    </tr>\n",
       "    <tr>\n",
       "      <th>4</th>\n",
       "      <td>1.237680e+18</td>\n",
       "      <td>345.282593</td>\n",
       "      <td>21.183866</td>\n",
       "      <td>19.43718</td>\n",
       "      <td>17.58028</td>\n",
       "      <td>16.49747</td>\n",
       "      <td>15.97711</td>\n",
       "      <td>15.54461</td>\n",
       "      <td>8102</td>\n",
       "      <td>301</td>\n",
       "      <td>3</td>\n",
       "      <td>137</td>\n",
       "      <td>6.891865e+18</td>\n",
       "      <td>GALAXY</td>\n",
       "      <td>0.116123</td>\n",
       "      <td>6121</td>\n",
       "      <td>56187</td>\n",
       "      <td>842</td>\n",
       "    </tr>\n",
       "    <tr>\n",
       "      <th>...</th>\n",
       "      <td>...</td>\n",
       "      <td>...</td>\n",
       "      <td>...</td>\n",
       "      <td>...</td>\n",
       "      <td>...</td>\n",
       "      <td>...</td>\n",
       "      <td>...</td>\n",
       "      <td>...</td>\n",
       "      <td>...</td>\n",
       "      <td>...</td>\n",
       "      <td>...</td>\n",
       "      <td>...</td>\n",
       "      <td>...</td>\n",
       "      <td>...</td>\n",
       "      <td>...</td>\n",
       "      <td>...</td>\n",
       "      <td>...</td>\n",
       "      <td>...</td>\n",
       "    </tr>\n",
       "    <tr>\n",
       "      <th>99995</th>\n",
       "      <td>1.237679e+18</td>\n",
       "      <td>39.620709</td>\n",
       "      <td>-2.594074</td>\n",
       "      <td>22.16759</td>\n",
       "      <td>22.97586</td>\n",
       "      <td>21.90404</td>\n",
       "      <td>21.30548</td>\n",
       "      <td>20.73569</td>\n",
       "      <td>7778</td>\n",
       "      <td>301</td>\n",
       "      <td>2</td>\n",
       "      <td>581</td>\n",
       "      <td>1.055431e+19</td>\n",
       "      <td>GALAXY</td>\n",
       "      <td>0.000000</td>\n",
       "      <td>9374</td>\n",
       "      <td>57749</td>\n",
       "      <td>438</td>\n",
       "    </tr>\n",
       "    <tr>\n",
       "      <th>99996</th>\n",
       "      <td>1.237679e+18</td>\n",
       "      <td>29.493819</td>\n",
       "      <td>19.798874</td>\n",
       "      <td>22.69118</td>\n",
       "      <td>22.38628</td>\n",
       "      <td>20.45003</td>\n",
       "      <td>19.75759</td>\n",
       "      <td>19.41526</td>\n",
       "      <td>7917</td>\n",
       "      <td>301</td>\n",
       "      <td>1</td>\n",
       "      <td>289</td>\n",
       "      <td>8.586351e+18</td>\n",
       "      <td>GALAXY</td>\n",
       "      <td>0.404895</td>\n",
       "      <td>7626</td>\n",
       "      <td>56934</td>\n",
       "      <td>866</td>\n",
       "    </tr>\n",
       "    <tr>\n",
       "      <th>99997</th>\n",
       "      <td>1.237668e+18</td>\n",
       "      <td>224.587407</td>\n",
       "      <td>15.700707</td>\n",
       "      <td>21.16916</td>\n",
       "      <td>19.26997</td>\n",
       "      <td>18.20428</td>\n",
       "      <td>17.69034</td>\n",
       "      <td>17.35221</td>\n",
       "      <td>5314</td>\n",
       "      <td>301</td>\n",
       "      <td>4</td>\n",
       "      <td>308</td>\n",
       "      <td>3.112008e+18</td>\n",
       "      <td>GALAXY</td>\n",
       "      <td>0.143366</td>\n",
       "      <td>2764</td>\n",
       "      <td>54535</td>\n",
       "      <td>74</td>\n",
       "    </tr>\n",
       "    <tr>\n",
       "      <th>99998</th>\n",
       "      <td>1.237661e+18</td>\n",
       "      <td>212.268621</td>\n",
       "      <td>46.660365</td>\n",
       "      <td>25.35039</td>\n",
       "      <td>21.63757</td>\n",
       "      <td>19.91386</td>\n",
       "      <td>19.07254</td>\n",
       "      <td>18.62482</td>\n",
       "      <td>3650</td>\n",
       "      <td>301</td>\n",
       "      <td>4</td>\n",
       "      <td>131</td>\n",
       "      <td>7.601080e+18</td>\n",
       "      <td>GALAXY</td>\n",
       "      <td>0.455040</td>\n",
       "      <td>6751</td>\n",
       "      <td>56368</td>\n",
       "      <td>470</td>\n",
       "    </tr>\n",
       "    <tr>\n",
       "      <th>99999</th>\n",
       "      <td>1.237661e+18</td>\n",
       "      <td>196.896053</td>\n",
       "      <td>49.464643</td>\n",
       "      <td>22.62171</td>\n",
       "      <td>21.79745</td>\n",
       "      <td>20.60115</td>\n",
       "      <td>20.00959</td>\n",
       "      <td>19.28075</td>\n",
       "      <td>3650</td>\n",
       "      <td>301</td>\n",
       "      <td>4</td>\n",
       "      <td>60</td>\n",
       "      <td>8.343152e+18</td>\n",
       "      <td>GALAXY</td>\n",
       "      <td>0.542944</td>\n",
       "      <td>7410</td>\n",
       "      <td>57104</td>\n",
       "      <td>851</td>\n",
       "    </tr>\n",
       "  </tbody>\n",
       "</table>\n",
       "<p>100000 rows × 18 columns</p>\n",
       "</div>"
      ],
      "text/plain": [
       "             obj_ID       alpha      delta         u         g         r  \\\n",
       "0      1.237661e+18  135.689107  32.494632  23.87882  22.27530  20.39501   \n",
       "1      1.237665e+18  144.826101  31.274185  24.77759  22.83188  22.58444   \n",
       "2      1.237661e+18  142.188790  35.582444  25.26307  22.66389  20.60976   \n",
       "3      1.237663e+18  338.741038  -0.402828  22.13682  23.77656  21.61162   \n",
       "4      1.237680e+18  345.282593  21.183866  19.43718  17.58028  16.49747   \n",
       "...             ...         ...        ...       ...       ...       ...   \n",
       "99995  1.237679e+18   39.620709  -2.594074  22.16759  22.97586  21.90404   \n",
       "99996  1.237679e+18   29.493819  19.798874  22.69118  22.38628  20.45003   \n",
       "99997  1.237668e+18  224.587407  15.700707  21.16916  19.26997  18.20428   \n",
       "99998  1.237661e+18  212.268621  46.660365  25.35039  21.63757  19.91386   \n",
       "99999  1.237661e+18  196.896053  49.464643  22.62171  21.79745  20.60115   \n",
       "\n",
       "              i         z  run_ID  rerun_ID  cam_col  field_ID   spec_obj_ID  \\\n",
       "0      19.16573  18.79371    3606       301        2        79  6.543777e+18   \n",
       "1      21.16812  21.61427    4518       301        5       119  1.176014e+19   \n",
       "2      19.34857  18.94827    3606       301        2       120  5.152200e+18   \n",
       "3      20.50454  19.25010    4192       301        3       214  1.030107e+19   \n",
       "4      15.97711  15.54461    8102       301        3       137  6.891865e+18   \n",
       "...         ...       ...     ...       ...      ...       ...           ...   \n",
       "99995  21.30548  20.73569    7778       301        2       581  1.055431e+19   \n",
       "99996  19.75759  19.41526    7917       301        1       289  8.586351e+18   \n",
       "99997  17.69034  17.35221    5314       301        4       308  3.112008e+18   \n",
       "99998  19.07254  18.62482    3650       301        4       131  7.601080e+18   \n",
       "99999  20.00959  19.28075    3650       301        4        60  8.343152e+18   \n",
       "\n",
       "        class  redshift  plate    MJD  fiber_ID  \n",
       "0      GALAXY  0.634794   5812  56354       171  \n",
       "1      GALAXY  0.779136  10445  58158       427  \n",
       "2      GALAXY  0.644195   4576  55592       299  \n",
       "3      GALAXY  0.932346   9149  58039       775  \n",
       "4      GALAXY  0.116123   6121  56187       842  \n",
       "...       ...       ...    ...    ...       ...  \n",
       "99995  GALAXY  0.000000   9374  57749       438  \n",
       "99996  GALAXY  0.404895   7626  56934       866  \n",
       "99997  GALAXY  0.143366   2764  54535        74  \n",
       "99998  GALAXY  0.455040   6751  56368       470  \n",
       "99999  GALAXY  0.542944   7410  57104       851  \n",
       "\n",
       "[100000 rows x 18 columns]"
      ]
     },
     "execution_count": 2,
     "metadata": {},
     "output_type": "execute_result"
    }
   ],
   "source": [
    "data_path = '../input/stellar-classification-dataset-sdss17/star_classification.csv'\n",
    "data = pd.read_csv(data_path)\n",
    "data"
   ]
  },
  {
   "cell_type": "code",
   "execution_count": 3,
   "id": "fff1b4f2",
   "metadata": {
    "execution": {
     "iopub.execute_input": "2022-03-06T11:51:09.776667Z",
     "iopub.status.busy": "2022-03-06T11:51:09.760867Z",
     "iopub.status.idle": "2022-03-06T11:51:09.814174Z",
     "shell.execute_reply": "2022-03-06T11:51:09.814677Z",
     "shell.execute_reply.started": "2022-03-06T11:47:18.347471Z"
    },
    "papermill": {
     "duration": 0.090615,
     "end_time": "2022-03-06T11:51:09.814962",
     "exception": false,
     "start_time": "2022-03-06T11:51:09.724347",
     "status": "completed"
    },
    "tags": []
   },
   "outputs": [
    {
     "name": "stdout",
     "output_type": "stream",
     "text": [
      "GALAXY    59445\n",
      "STAR      21594\n",
      "QSO       18961\n",
      "Name: class, dtype: int64\n"
     ]
    }
   ],
   "source": [
    "print(data['class'].value_counts())\n",
    "# labeling encode the feature 'class'\n",
    "encoder = LabelEncoder()\n",
    "label_encoded_classes = encoder.fit_transform(data['class'].values)\n",
    "data['class'] = label_encoded_classes"
   ]
  },
  {
   "cell_type": "code",
   "execution_count": 4,
   "id": "afef8188",
   "metadata": {
    "execution": {
     "iopub.execute_input": "2022-03-06T11:51:09.876340Z",
     "iopub.status.busy": "2022-03-06T11:51:09.875452Z",
     "iopub.status.idle": "2022-03-06T11:51:09.997212Z",
     "shell.execute_reply": "2022-03-06T11:51:09.998203Z",
     "shell.execute_reply.started": "2022-03-06T11:47:18.804213Z"
    },
    "papermill": {
     "duration": 0.154236,
     "end_time": "2022-03-06T11:51:09.998515",
     "exception": false,
     "start_time": "2022-03-06T11:51:09.844279",
     "status": "completed"
    },
    "tags": []
   },
   "outputs": [
    {
     "name": "stdout",
     "output_type": "stream",
     "text": [
      "             corr_coef  meet_thres\n",
      "r            -0.076766        True\n",
      "redshift     -0.054239        True\n",
      "fiber_ID     -0.041586        True\n",
      "run_ID       -0.036014        True\n",
      "obj_ID       -0.036012        True\n",
      "field_ID     -0.034833        True\n",
      "u            -0.024645        True\n",
      "g            -0.020066        True\n",
      "alpha        -0.011756       False\n",
      "spec_obj_ID  -0.010060       False\n",
      "plate        -0.010060       False\n",
      "z            -0.001614       False\n",
      "MJD          -0.000405       False\n",
      "delta         0.014452       False\n",
      "i             0.015028       False\n",
      "cam_col       0.023138        True\n",
      "class         1.000000        True\n",
      "rerun_ID           NaN       False\n"
     ]
    }
   ],
   "source": [
    "corr = data.corr()\n",
    "corr_class = corr['class'].sort_values()\n",
    "threshold = (corr_class > 0.02) | (corr_class < -0.02)\n",
    "print(pd.DataFrame({'corr_coef': corr_class, 'meet_thres': threshold}))\n",
    "\n",
    "to_drops = threshold.index[~threshold].tolist()\n",
    "to_drops.append('class')"
   ]
  },
  {
   "cell_type": "markdown",
   "id": "e698d452",
   "metadata": {
    "papermill": {
     "duration": 0.025088,
     "end_time": "2022-03-06T11:51:10.049842",
     "exception": false,
     "start_time": "2022-03-06T11:51:10.024754",
     "status": "completed"
    },
    "tags": []
   },
   "source": [
    "`alpha`, `spec_obj_ID`, `plate`, `z`, `MJD`, `delta`, `i`, and `rerun_ID` has little relation with the target feature `class`.\n",
    "\n",
    "Therefore, I'll drop them."
   ]
  },
  {
   "cell_type": "code",
   "execution_count": 5,
   "id": "3cc6c9cc",
   "metadata": {
    "execution": {
     "iopub.execute_input": "2022-03-06T11:51:10.103645Z",
     "iopub.status.busy": "2022-03-06T11:51:10.102960Z",
     "iopub.status.idle": "2022-03-06T11:51:10.114260Z",
     "shell.execute_reply": "2022-03-06T11:51:10.113560Z",
     "shell.execute_reply.started": "2022-03-06T11:47:21.138889Z"
    },
    "papermill": {
     "duration": 0.039257,
     "end_time": "2022-03-06T11:51:10.114410",
     "exception": false,
     "start_time": "2022-03-06T11:51:10.075153",
     "status": "completed"
    },
    "tags": []
   },
   "outputs": [],
   "source": [
    "# drop unrelated features and the target feature\n",
    "data_X = data.drop(columns=to_drops)\n",
    "data_y = data['class']"
   ]
  },
  {
   "cell_type": "code",
   "execution_count": 6,
   "id": "9d3c17d2",
   "metadata": {
    "execution": {
     "iopub.execute_input": "2022-03-06T11:51:10.171175Z",
     "iopub.status.busy": "2022-03-06T11:51:10.170474Z",
     "iopub.status.idle": "2022-03-06T11:51:10.185633Z",
     "shell.execute_reply": "2022-03-06T11:51:10.186402Z",
     "shell.execute_reply.started": "2022-03-06T11:47:22.547902Z"
    },
    "papermill": {
     "duration": 0.046759,
     "end_time": "2022-03-06T11:51:10.186633",
     "exception": false,
     "start_time": "2022-03-06T11:51:10.139874",
     "status": "completed"
    },
    "tags": []
   },
   "outputs": [
    {
     "name": "stdout",
     "output_type": "stream",
     "text": [
      "<class 'pandas.core.frame.DataFrame'>\n",
      "RangeIndex: 100000 entries, 0 to 99999\n",
      "Data columns (total 9 columns):\n",
      " #   Column    Non-Null Count   Dtype  \n",
      "---  ------    --------------   -----  \n",
      " 0   obj_ID    100000 non-null  float64\n",
      " 1   u         100000 non-null  float64\n",
      " 2   g         100000 non-null  float64\n",
      " 3   r         100000 non-null  float64\n",
      " 4   run_ID    100000 non-null  int64  \n",
      " 5   cam_col   100000 non-null  int64  \n",
      " 6   field_ID  100000 non-null  int64  \n",
      " 7   redshift  100000 non-null  float64\n",
      " 8   fiber_ID  100000 non-null  int64  \n",
      "dtypes: float64(5), int64(4)\n",
      "memory usage: 6.9 MB\n"
     ]
    }
   ],
   "source": [
    "data_X.info()"
   ]
  },
  {
   "cell_type": "markdown",
   "id": "91d393b7",
   "metadata": {
    "papermill": {
     "duration": 0.025629,
     "end_time": "2022-03-06T11:51:10.239361",
     "exception": false,
     "start_time": "2022-03-06T11:51:10.213732",
     "status": "completed"
    },
    "tags": []
   },
   "source": [
    "`run_ID`, `cam_col`, `field_ID`, and `fiber_ID` is categorical.\n",
    "\n",
    "They have to be one-hot encoded."
   ]
  },
  {
   "cell_type": "code",
   "execution_count": 7,
   "id": "0426e55e",
   "metadata": {
    "execution": {
     "iopub.execute_input": "2022-03-06T11:51:10.294775Z",
     "iopub.status.busy": "2022-03-06T11:51:10.294138Z",
     "iopub.status.idle": "2022-03-06T11:51:12.972115Z",
     "shell.execute_reply": "2022-03-06T11:51:12.971427Z",
     "shell.execute_reply.started": "2022-03-06T11:47:29.120245Z"
    },
    "papermill": {
     "duration": 2.706622,
     "end_time": "2022-03-06T11:51:12.972268",
     "exception": false,
     "start_time": "2022-03-06T11:51:10.265646",
     "status": "completed"
    },
    "tags": []
   },
   "outputs": [
    {
     "name": "stdout",
     "output_type": "stream",
     "text": [
      "Number of features becomes 2297.\n"
     ]
    }
   ],
   "source": [
    "# transform each categorical attributes into one-hot encoded ones\n",
    "cat_attrs = ['run_ID', 'cam_col', 'field_ID', 'fiber_ID']\n",
    "for cat_attr in cat_attrs:\n",
    "    one_hot = pd.get_dummies(data_X[cat_attr]) \\\n",
    "                .add_prefix(f'{ cat_attr }_')\n",
    "    data_X = data_X.drop(columns=cat_attr)\n",
    "    data_X = data_X.join(one_hot)\n",
    "\n",
    "data_X = data_X.values\n",
    "print(f'Number of features becomes { data_X.shape[1] }.')"
   ]
  },
  {
   "cell_type": "code",
   "execution_count": 8,
   "id": "bc3e2cbd",
   "metadata": {
    "execution": {
     "iopub.execute_input": "2022-03-06T11:51:13.034322Z",
     "iopub.status.busy": "2022-03-06T11:51:13.033637Z",
     "iopub.status.idle": "2022-03-06T11:51:19.122781Z",
     "shell.execute_reply": "2022-03-06T11:51:19.122201Z",
     "shell.execute_reply.started": "2022-03-06T11:47:31.974855Z"
    },
    "papermill": {
     "duration": 6.122436,
     "end_time": "2022-03-06T11:51:19.122962",
     "exception": false,
     "start_time": "2022-03-06T11:51:13.000526",
     "status": "completed"
    },
    "tags": []
   },
   "outputs": [],
   "source": [
    "test_sizes = [0.2, 0.3]\n",
    "datasets = [ train_test_split(data_X, data_y.values, test_size=test_size)\n",
    "             for test_size in test_sizes ]"
   ]
  },
  {
   "cell_type": "code",
   "execution_count": 9,
   "id": "b0b6529f",
   "metadata": {
    "execution": {
     "iopub.execute_input": "2022-03-06T11:51:19.179016Z",
     "iopub.status.busy": "2022-03-06T11:51:19.178013Z",
     "iopub.status.idle": "2022-03-06T11:51:46.573491Z",
     "shell.execute_reply": "2022-03-06T11:51:46.574481Z",
     "shell.execute_reply.started": "2022-03-06T11:47:37.229320Z"
    },
    "papermill": {
     "duration": 27.425669,
     "end_time": "2022-03-06T11:51:46.574778",
     "exception": false,
     "start_time": "2022-03-06T11:51:19.149109",
     "status": "completed"
    },
    "tags": []
   },
   "outputs": [
    {
     "name": "stdout",
     "output_type": "stream",
     "text": [
      "Number of each class: [0 1 2]\n",
      "Number of each class: [0 1 2]\n"
     ]
    }
   ],
   "source": [
    "rus = RandomUnderSampler()\n",
    "pca = PCA(n_components=100)\n",
    "scaler = MinMaxScaler()\n",
    "\n",
    "for idx, dataset in enumerate(datasets):\n",
    "    X_train, X_test, y_train, y_test = dataset\n",
    "    \n",
    "    X_train, y_train = rus.fit_resample(X_train, y_train)\n",
    "    print(f'Number of each class: { np.unique(y_train, return_counts=True)[0] }')\n",
    "    \n",
    "    X_train = pca.fit_transform(X_train)\n",
    "    X_test = pca.transform(X_test)\n",
    "    \n",
    "    X_train = scaler.fit_transform(X_train)\n",
    "    X_test = scaler.transform(X_test)\n",
    "    \n",
    "    datasets[idx] = (X_train, X_test, y_train, y_test)"
   ]
  },
  {
   "cell_type": "markdown",
   "id": "8bbc7bb1",
   "metadata": {
    "papermill": {
     "duration": 0.026852,
     "end_time": "2022-03-06T11:51:46.632331",
     "exception": false,
     "start_time": "2022-03-06T11:51:46.605479",
     "status": "completed"
    },
    "tags": []
   },
   "source": [
    "# Models"
   ]
  },
  {
   "cell_type": "code",
   "execution_count": 10,
   "id": "8a265370",
   "metadata": {
    "execution": {
     "iopub.execute_input": "2022-03-06T11:51:46.694778Z",
     "iopub.status.busy": "2022-03-06T11:51:46.694120Z",
     "iopub.status.idle": "2022-03-06T11:51:46.695791Z",
     "shell.execute_reply": "2022-03-06T11:51:46.696387Z",
     "shell.execute_reply.started": "2022-03-05T14:33:43.551536Z"
    },
    "papermill": {
     "duration": 0.03631,
     "end_time": "2022-03-06T11:51:46.696556",
     "exception": false,
     "start_time": "2022-03-06T11:51:46.660246",
     "status": "completed"
    },
    "tags": []
   },
   "outputs": [],
   "source": [
    "# make a specified model with desired parameters\n",
    "def get_model(model_type, params):\n",
    "    if model_type == 'knn':\n",
    "        return KNeighborsClassifier(**params)\n",
    "    elif model_type == 'rf':\n",
    "        return RandomForestClassifier(criterion='gini', **params)\n",
    "    elif model_type == 'svm':\n",
    "        return SVC(kernel='rbf', **params)\n",
    "    elif model_type == 'mlp':\n",
    "        return MLPClassifier(**params)\n",
    "    else:\n",
    "        return None"
   ]
  },
  {
   "cell_type": "markdown",
   "id": "aed25430",
   "metadata": {
    "papermill": {
     "duration": 0.026693,
     "end_time": "2022-03-06T11:51:46.750813",
     "exception": false,
     "start_time": "2022-03-06T11:51:46.724120",
     "status": "completed"
    },
    "tags": []
   },
   "source": [
    "# Validation & Results"
   ]
  },
  {
   "cell_type": "code",
   "execution_count": 11,
   "id": "d5eb980f",
   "metadata": {
    "execution": {
     "iopub.execute_input": "2022-03-06T11:51:46.808357Z",
     "iopub.status.busy": "2022-03-06T11:51:46.807598Z",
     "iopub.status.idle": "2022-03-06T11:51:46.813363Z",
     "shell.execute_reply": "2022-03-06T11:51:46.812655Z",
     "shell.execute_reply.started": "2022-03-05T14:33:43.561754Z"
    },
    "papermill": {
     "duration": 0.035682,
     "end_time": "2022-03-06T11:51:46.813511",
     "exception": false,
     "start_time": "2022-03-06T11:51:46.777829",
     "status": "completed"
    },
    "tags": []
   },
   "outputs": [],
   "source": [
    "# display a confusion matrix and the classification report\n",
    "def show_performance(y_true, y_pred):\n",
    "    c_matrix = confusion_matrix(y_true, y_pred)\n",
    "    c_table = pd.DataFrame(c_matrix)\n",
    "    c_table.columns.name = 'truth\\pred'\n",
    "    display(c_table)\n",
    "    \n",
    "    report = classification_report(y_true, y_pred)\n",
    "    print(report)"
   ]
  },
  {
   "cell_type": "code",
   "execution_count": 12,
   "id": "c25312dc",
   "metadata": {
    "execution": {
     "iopub.execute_input": "2022-03-06T11:51:46.873913Z",
     "iopub.status.busy": "2022-03-06T11:51:46.873204Z",
     "iopub.status.idle": "2022-03-06T11:51:46.876247Z",
     "shell.execute_reply": "2022-03-06T11:51:46.875682Z",
     "shell.execute_reply.started": "2022-03-05T14:33:43.578104Z"
    },
    "papermill": {
     "duration": 0.035755,
     "end_time": "2022-03-06T11:51:46.876404",
     "exception": false,
     "start_time": "2022-03-06T11:51:46.840649",
     "status": "completed"
    },
    "tags": []
   },
   "outputs": [],
   "source": [
    "def show_cross_validate_report(res):\n",
    "    report = pd.DataFrame({\n",
    "        'fit_time': res['fit_time'],\n",
    "        'score_time': res['score_time'],\n",
    "        'test_score': res['test_score'],\n",
    "    })\n",
    "    display(report)"
   ]
  },
  {
   "cell_type": "code",
   "execution_count": 13,
   "id": "752baca9",
   "metadata": {
    "execution": {
     "iopub.execute_input": "2022-03-06T11:51:46.942277Z",
     "iopub.status.busy": "2022-03-06T11:51:46.941246Z",
     "iopub.status.idle": "2022-03-06T11:51:46.944252Z",
     "shell.execute_reply": "2022-03-06T11:51:46.943605Z",
     "shell.execute_reply.started": "2022-03-05T14:33:43.596762Z"
    },
    "papermill": {
     "duration": 0.039585,
     "end_time": "2022-03-06T11:51:46.944398",
     "exception": false,
     "start_time": "2022-03-06T11:51:46.904813",
     "status": "completed"
    },
    "tags": []
   },
   "outputs": [],
   "source": [
    "# train a model with 5-fold cross validation and validate the best model with the testing set\n",
    "def train_model(model_type, param_grid, datasets):\n",
    "    for test_size, dataset in zip(test_sizes, datasets):\n",
    "        display(Markdown(f'### Test size: { test_size }'))\n",
    "        X_train, X_test, y_train, y_test = dataset\n",
    "\n",
    "        for params in param_grid:\n",
    "            display(Markdown(f'#### { params }'))\n",
    "            model = get_model(model_type, params)\n",
    "            res = cross_validate(model, X_train, y_train, return_estimator=True)\n",
    "\n",
    "            display(Markdown('#### Training Performance:'))\n",
    "            show_cross_validate_report(res)\n",
    "\n",
    "            best_model = res['estimator'][res['test_score'].argmax()]\n",
    "            y_pred = best_model.predict(X_test)\n",
    "\n",
    "            display(Markdown('#### Testing Performance:'))\n",
    "            show_performance(y_test, y_pred)"
   ]
  },
  {
   "cell_type": "markdown",
   "id": "60d4a9db",
   "metadata": {
    "papermill": {
     "duration": 0.02685,
     "end_time": "2022-03-06T11:51:46.999572",
     "exception": false,
     "start_time": "2022-03-06T11:51:46.972722",
     "status": "completed"
    },
    "tags": []
   },
   "source": [
    "## KNN"
   ]
  },
  {
   "cell_type": "code",
   "execution_count": 14,
   "id": "2a899fdd",
   "metadata": {
    "execution": {
     "iopub.execute_input": "2022-03-06T11:51:47.062098Z",
     "iopub.status.busy": "2022-03-06T11:51:47.061037Z",
     "iopub.status.idle": "2022-03-06T12:11:38.319266Z",
     "shell.execute_reply": "2022-03-06T12:11:38.318526Z",
     "shell.execute_reply.started": "2022-03-05T14:33:43.614249Z"
    },
    "papermill": {
     "duration": 1191.292049,
     "end_time": "2022-03-06T12:11:38.319428",
     "exception": false,
     "start_time": "2022-03-06T11:51:47.027379",
     "status": "completed"
    },
    "tags": []
   },
   "outputs": [
    {
     "data": {
      "text/markdown": [
       "### Test size: 0.2"
      ],
      "text/plain": [
       "<IPython.core.display.Markdown object>"
      ]
     },
     "metadata": {},
     "output_type": "display_data"
    },
    {
     "data": {
      "text/markdown": [
       "#### {'n_neighbors': 5}"
      ],
      "text/plain": [
       "<IPython.core.display.Markdown object>"
      ]
     },
     "metadata": {},
     "output_type": "display_data"
    },
    {
     "data": {
      "text/markdown": [
       "#### Training Performance:"
      ],
      "text/plain": [
       "<IPython.core.display.Markdown object>"
      ]
     },
     "metadata": {},
     "output_type": "display_data"
    },
    {
     "data": {
      "text/html": [
       "<div>\n",
       "<style scoped>\n",
       "    .dataframe tbody tr th:only-of-type {\n",
       "        vertical-align: middle;\n",
       "    }\n",
       "\n",
       "    .dataframe tbody tr th {\n",
       "        vertical-align: top;\n",
       "    }\n",
       "\n",
       "    .dataframe thead th {\n",
       "        text-align: right;\n",
       "    }\n",
       "</style>\n",
       "<table border=\"1\" class=\"dataframe\">\n",
       "  <thead>\n",
       "    <tr style=\"text-align: right;\">\n",
       "      <th></th>\n",
       "      <th>fit_time</th>\n",
       "      <th>score_time</th>\n",
       "      <th>test_score</th>\n",
       "    </tr>\n",
       "  </thead>\n",
       "  <tbody>\n",
       "    <tr>\n",
       "      <th>0</th>\n",
       "      <td>0.591357</td>\n",
       "      <td>27.756326</td>\n",
       "      <td>0.712545</td>\n",
       "    </tr>\n",
       "    <tr>\n",
       "      <th>1</th>\n",
       "      <td>0.589011</td>\n",
       "      <td>24.303007</td>\n",
       "      <td>0.724838</td>\n",
       "    </tr>\n",
       "    <tr>\n",
       "      <th>2</th>\n",
       "      <td>0.591559</td>\n",
       "      <td>24.698927</td>\n",
       "      <td>0.713862</td>\n",
       "    </tr>\n",
       "    <tr>\n",
       "      <th>3</th>\n",
       "      <td>0.600424</td>\n",
       "      <td>18.960065</td>\n",
       "      <td>0.726704</td>\n",
       "    </tr>\n",
       "    <tr>\n",
       "      <th>4</th>\n",
       "      <td>0.585859</td>\n",
       "      <td>25.054924</td>\n",
       "      <td>0.726375</td>\n",
       "    </tr>\n",
       "  </tbody>\n",
       "</table>\n",
       "</div>"
      ],
      "text/plain": [
       "   fit_time  score_time  test_score\n",
       "0  0.591357   27.756326    0.712545\n",
       "1  0.589011   24.303007    0.724838\n",
       "2  0.591559   24.698927    0.713862\n",
       "3  0.600424   18.960065    0.726704\n",
       "4  0.585859   25.054924    0.726375"
      ]
     },
     "metadata": {},
     "output_type": "display_data"
    },
    {
     "data": {
      "text/markdown": [
       "#### Testing Performance:"
      ],
      "text/plain": [
       "<IPython.core.display.Markdown object>"
      ]
     },
     "metadata": {},
     "output_type": "display_data"
    },
    {
     "data": {
      "text/html": [
       "<div>\n",
       "<style scoped>\n",
       "    .dataframe tbody tr th:only-of-type {\n",
       "        vertical-align: middle;\n",
       "    }\n",
       "\n",
       "    .dataframe tbody tr th {\n",
       "        vertical-align: top;\n",
       "    }\n",
       "\n",
       "    .dataframe thead th {\n",
       "        text-align: right;\n",
       "    }\n",
       "</style>\n",
       "<table border=\"1\" class=\"dataframe\">\n",
       "  <thead>\n",
       "    <tr style=\"text-align: right;\">\n",
       "      <th>truth\\pred</th>\n",
       "      <th>0</th>\n",
       "      <th>1</th>\n",
       "      <th>2</th>\n",
       "    </tr>\n",
       "  </thead>\n",
       "  <tbody>\n",
       "    <tr>\n",
       "      <th>0</th>\n",
       "      <td>9113</td>\n",
       "      <td>1129</td>\n",
       "      <td>1674</td>\n",
       "    </tr>\n",
       "    <tr>\n",
       "      <th>1</th>\n",
       "      <td>617</td>\n",
       "      <td>2877</td>\n",
       "      <td>282</td>\n",
       "    </tr>\n",
       "    <tr>\n",
       "      <th>2</th>\n",
       "      <td>1053</td>\n",
       "      <td>381</td>\n",
       "      <td>2874</td>\n",
       "    </tr>\n",
       "  </tbody>\n",
       "</table>\n",
       "</div>"
      ],
      "text/plain": [
       "truth\\pred     0     1     2\n",
       "0           9113  1129  1674\n",
       "1            617  2877   282\n",
       "2           1053   381  2874"
      ]
     },
     "metadata": {},
     "output_type": "display_data"
    },
    {
     "name": "stdout",
     "output_type": "stream",
     "text": [
      "              precision    recall  f1-score   support\n",
      "\n",
      "           0       0.85      0.76      0.80     11916\n",
      "           1       0.66      0.76      0.70      3776\n",
      "           2       0.60      0.67      0.63      4308\n",
      "\n",
      "    accuracy                           0.74     20000\n",
      "   macro avg       0.70      0.73      0.71     20000\n",
      "weighted avg       0.76      0.74      0.75     20000\n",
      "\n"
     ]
    },
    {
     "data": {
      "text/markdown": [
       "#### {'n_neighbors': 10}"
      ],
      "text/plain": [
       "<IPython.core.display.Markdown object>"
      ]
     },
     "metadata": {},
     "output_type": "display_data"
    },
    {
     "data": {
      "text/markdown": [
       "#### Training Performance:"
      ],
      "text/plain": [
       "<IPython.core.display.Markdown object>"
      ]
     },
     "metadata": {},
     "output_type": "display_data"
    },
    {
     "data": {
      "text/html": [
       "<div>\n",
       "<style scoped>\n",
       "    .dataframe tbody tr th:only-of-type {\n",
       "        vertical-align: middle;\n",
       "    }\n",
       "\n",
       "    .dataframe tbody tr th {\n",
       "        vertical-align: top;\n",
       "    }\n",
       "\n",
       "    .dataframe thead th {\n",
       "        text-align: right;\n",
       "    }\n",
       "</style>\n",
       "<table border=\"1\" class=\"dataframe\">\n",
       "  <thead>\n",
       "    <tr style=\"text-align: right;\">\n",
       "      <th></th>\n",
       "      <th>fit_time</th>\n",
       "      <th>score_time</th>\n",
       "      <th>test_score</th>\n",
       "    </tr>\n",
       "  </thead>\n",
       "  <tbody>\n",
       "    <tr>\n",
       "      <th>0</th>\n",
       "      <td>0.596431</td>\n",
       "      <td>33.938075</td>\n",
       "      <td>0.712216</td>\n",
       "    </tr>\n",
       "    <tr>\n",
       "      <th>1</th>\n",
       "      <td>0.595089</td>\n",
       "      <td>29.946334</td>\n",
       "      <td>0.719350</td>\n",
       "    </tr>\n",
       "    <tr>\n",
       "      <th>2</th>\n",
       "      <td>0.593379</td>\n",
       "      <td>30.550804</td>\n",
       "      <td>0.715509</td>\n",
       "    </tr>\n",
       "    <tr>\n",
       "      <th>3</th>\n",
       "      <td>0.596539</td>\n",
       "      <td>22.898020</td>\n",
       "      <td>0.717594</td>\n",
       "    </tr>\n",
       "    <tr>\n",
       "      <th>4</th>\n",
       "      <td>0.593348</td>\n",
       "      <td>30.364032</td>\n",
       "      <td>0.720119</td>\n",
       "    </tr>\n",
       "  </tbody>\n",
       "</table>\n",
       "</div>"
      ],
      "text/plain": [
       "   fit_time  score_time  test_score\n",
       "0  0.596431   33.938075    0.712216\n",
       "1  0.595089   29.946334    0.719350\n",
       "2  0.593379   30.550804    0.715509\n",
       "3  0.596539   22.898020    0.717594\n",
       "4  0.593348   30.364032    0.720119"
      ]
     },
     "metadata": {},
     "output_type": "display_data"
    },
    {
     "data": {
      "text/markdown": [
       "#### Testing Performance:"
      ],
      "text/plain": [
       "<IPython.core.display.Markdown object>"
      ]
     },
     "metadata": {},
     "output_type": "display_data"
    },
    {
     "data": {
      "text/html": [
       "<div>\n",
       "<style scoped>\n",
       "    .dataframe tbody tr th:only-of-type {\n",
       "        vertical-align: middle;\n",
       "    }\n",
       "\n",
       "    .dataframe tbody tr th {\n",
       "        vertical-align: top;\n",
       "    }\n",
       "\n",
       "    .dataframe thead th {\n",
       "        text-align: right;\n",
       "    }\n",
       "</style>\n",
       "<table border=\"1\" class=\"dataframe\">\n",
       "  <thead>\n",
       "    <tr style=\"text-align: right;\">\n",
       "      <th>truth\\pred</th>\n",
       "      <th>0</th>\n",
       "      <th>1</th>\n",
       "      <th>2</th>\n",
       "    </tr>\n",
       "  </thead>\n",
       "  <tbody>\n",
       "    <tr>\n",
       "      <th>0</th>\n",
       "      <td>9149</td>\n",
       "      <td>985</td>\n",
       "      <td>1782</td>\n",
       "    </tr>\n",
       "    <tr>\n",
       "      <th>1</th>\n",
       "      <td>602</td>\n",
       "      <td>2869</td>\n",
       "      <td>305</td>\n",
       "    </tr>\n",
       "    <tr>\n",
       "      <th>2</th>\n",
       "      <td>1109</td>\n",
       "      <td>370</td>\n",
       "      <td>2829</td>\n",
       "    </tr>\n",
       "  </tbody>\n",
       "</table>\n",
       "</div>"
      ],
      "text/plain": [
       "truth\\pred     0     1     2\n",
       "0           9149   985  1782\n",
       "1            602  2869   305\n",
       "2           1109   370  2829"
      ]
     },
     "metadata": {},
     "output_type": "display_data"
    },
    {
     "name": "stdout",
     "output_type": "stream",
     "text": [
      "              precision    recall  f1-score   support\n",
      "\n",
      "           0       0.84      0.77      0.80     11916\n",
      "           1       0.68      0.76      0.72      3776\n",
      "           2       0.58      0.66      0.61      4308\n",
      "\n",
      "    accuracy                           0.74     20000\n",
      "   macro avg       0.70      0.73      0.71     20000\n",
      "weighted avg       0.75      0.74      0.75     20000\n",
      "\n"
     ]
    },
    {
     "data": {
      "text/markdown": [
       "#### {'n_neighbors': 15}"
      ],
      "text/plain": [
       "<IPython.core.display.Markdown object>"
      ]
     },
     "metadata": {},
     "output_type": "display_data"
    },
    {
     "data": {
      "text/markdown": [
       "#### Training Performance:"
      ],
      "text/plain": [
       "<IPython.core.display.Markdown object>"
      ]
     },
     "metadata": {},
     "output_type": "display_data"
    },
    {
     "data": {
      "text/html": [
       "<div>\n",
       "<style scoped>\n",
       "    .dataframe tbody tr th:only-of-type {\n",
       "        vertical-align: middle;\n",
       "    }\n",
       "\n",
       "    .dataframe tbody tr th {\n",
       "        vertical-align: top;\n",
       "    }\n",
       "\n",
       "    .dataframe thead th {\n",
       "        text-align: right;\n",
       "    }\n",
       "</style>\n",
       "<table border=\"1\" class=\"dataframe\">\n",
       "  <thead>\n",
       "    <tr style=\"text-align: right;\">\n",
       "      <th></th>\n",
       "      <th>fit_time</th>\n",
       "      <th>score_time</th>\n",
       "      <th>test_score</th>\n",
       "    </tr>\n",
       "  </thead>\n",
       "  <tbody>\n",
       "    <tr>\n",
       "      <th>0</th>\n",
       "      <td>0.593985</td>\n",
       "      <td>38.627063</td>\n",
       "      <td>0.712216</td>\n",
       "    </tr>\n",
       "    <tr>\n",
       "      <th>1</th>\n",
       "      <td>0.590709</td>\n",
       "      <td>32.515585</td>\n",
       "      <td>0.720997</td>\n",
       "    </tr>\n",
       "    <tr>\n",
       "      <th>2</th>\n",
       "      <td>0.596555</td>\n",
       "      <td>33.590678</td>\n",
       "      <td>0.716936</td>\n",
       "    </tr>\n",
       "    <tr>\n",
       "      <th>3</th>\n",
       "      <td>0.635099</td>\n",
       "      <td>26.254200</td>\n",
       "      <td>0.718253</td>\n",
       "    </tr>\n",
       "    <tr>\n",
       "      <th>4</th>\n",
       "      <td>0.589623</td>\n",
       "      <td>34.751071</td>\n",
       "      <td>0.717594</td>\n",
       "    </tr>\n",
       "  </tbody>\n",
       "</table>\n",
       "</div>"
      ],
      "text/plain": [
       "   fit_time  score_time  test_score\n",
       "0  0.593985   38.627063    0.712216\n",
       "1  0.590709   32.515585    0.720997\n",
       "2  0.596555   33.590678    0.716936\n",
       "3  0.635099   26.254200    0.718253\n",
       "4  0.589623   34.751071    0.717594"
      ]
     },
     "metadata": {},
     "output_type": "display_data"
    },
    {
     "data": {
      "text/markdown": [
       "#### Testing Performance:"
      ],
      "text/plain": [
       "<IPython.core.display.Markdown object>"
      ]
     },
     "metadata": {},
     "output_type": "display_data"
    },
    {
     "data": {
      "text/html": [
       "<div>\n",
       "<style scoped>\n",
       "    .dataframe tbody tr th:only-of-type {\n",
       "        vertical-align: middle;\n",
       "    }\n",
       "\n",
       "    .dataframe tbody tr th {\n",
       "        vertical-align: top;\n",
       "    }\n",
       "\n",
       "    .dataframe thead th {\n",
       "        text-align: right;\n",
       "    }\n",
       "</style>\n",
       "<table border=\"1\" class=\"dataframe\">\n",
       "  <thead>\n",
       "    <tr style=\"text-align: right;\">\n",
       "      <th>truth\\pred</th>\n",
       "      <th>0</th>\n",
       "      <th>1</th>\n",
       "      <th>2</th>\n",
       "    </tr>\n",
       "  </thead>\n",
       "  <tbody>\n",
       "    <tr>\n",
       "      <th>0</th>\n",
       "      <td>8892</td>\n",
       "      <td>992</td>\n",
       "      <td>2032</td>\n",
       "    </tr>\n",
       "    <tr>\n",
       "      <th>1</th>\n",
       "      <td>583</td>\n",
       "      <td>2868</td>\n",
       "      <td>325</td>\n",
       "    </tr>\n",
       "    <tr>\n",
       "      <th>2</th>\n",
       "      <td>1068</td>\n",
       "      <td>359</td>\n",
       "      <td>2881</td>\n",
       "    </tr>\n",
       "  </tbody>\n",
       "</table>\n",
       "</div>"
      ],
      "text/plain": [
       "truth\\pred     0     1     2\n",
       "0           8892   992  2032\n",
       "1            583  2868   325\n",
       "2           1068   359  2881"
      ]
     },
     "metadata": {},
     "output_type": "display_data"
    },
    {
     "name": "stdout",
     "output_type": "stream",
     "text": [
      "              precision    recall  f1-score   support\n",
      "\n",
      "           0       0.84      0.75      0.79     11916\n",
      "           1       0.68      0.76      0.72      3776\n",
      "           2       0.55      0.67      0.60      4308\n",
      "\n",
      "    accuracy                           0.73     20000\n",
      "   macro avg       0.69      0.72      0.70     20000\n",
      "weighted avg       0.75      0.73      0.74     20000\n",
      "\n"
     ]
    },
    {
     "data": {
      "text/markdown": [
       "### Test size: 0.3"
      ],
      "text/plain": [
       "<IPython.core.display.Markdown object>"
      ]
     },
     "metadata": {},
     "output_type": "display_data"
    },
    {
     "data": {
      "text/markdown": [
       "#### {'n_neighbors': 5}"
      ],
      "text/plain": [
       "<IPython.core.display.Markdown object>"
      ]
     },
     "metadata": {},
     "output_type": "display_data"
    },
    {
     "data": {
      "text/markdown": [
       "#### Training Performance:"
      ],
      "text/plain": [
       "<IPython.core.display.Markdown object>"
      ]
     },
     "metadata": {},
     "output_type": "display_data"
    },
    {
     "data": {
      "text/html": [
       "<div>\n",
       "<style scoped>\n",
       "    .dataframe tbody tr th:only-of-type {\n",
       "        vertical-align: middle;\n",
       "    }\n",
       "\n",
       "    .dataframe tbody tr th {\n",
       "        vertical-align: top;\n",
       "    }\n",
       "\n",
       "    .dataframe thead th {\n",
       "        text-align: right;\n",
       "    }\n",
       "</style>\n",
       "<table border=\"1\" class=\"dataframe\">\n",
       "  <thead>\n",
       "    <tr style=\"text-align: right;\">\n",
       "      <th></th>\n",
       "      <th>fit_time</th>\n",
       "      <th>score_time</th>\n",
       "      <th>test_score</th>\n",
       "    </tr>\n",
       "  </thead>\n",
       "  <tbody>\n",
       "    <tr>\n",
       "      <th>0</th>\n",
       "      <td>0.523140</td>\n",
       "      <td>19.036655</td>\n",
       "      <td>0.722818</td>\n",
       "    </tr>\n",
       "    <tr>\n",
       "      <th>1</th>\n",
       "      <td>0.523246</td>\n",
       "      <td>19.218825</td>\n",
       "      <td>0.729676</td>\n",
       "    </tr>\n",
       "    <tr>\n",
       "      <th>2</th>\n",
       "      <td>0.529201</td>\n",
       "      <td>14.709198</td>\n",
       "      <td>0.718329</td>\n",
       "    </tr>\n",
       "    <tr>\n",
       "      <th>3</th>\n",
       "      <td>0.543404</td>\n",
       "      <td>17.714947</td>\n",
       "      <td>0.711560</td>\n",
       "    </tr>\n",
       "    <tr>\n",
       "      <th>4</th>\n",
       "      <td>0.511894</td>\n",
       "      <td>19.288450</td>\n",
       "      <td>0.720663</td>\n",
       "    </tr>\n",
       "  </tbody>\n",
       "</table>\n",
       "</div>"
      ],
      "text/plain": [
       "   fit_time  score_time  test_score\n",
       "0  0.523140   19.036655    0.722818\n",
       "1  0.523246   19.218825    0.729676\n",
       "2  0.529201   14.709198    0.718329\n",
       "3  0.543404   17.714947    0.711560\n",
       "4  0.511894   19.288450    0.720663"
      ]
     },
     "metadata": {},
     "output_type": "display_data"
    },
    {
     "data": {
      "text/markdown": [
       "#### Testing Performance:"
      ],
      "text/plain": [
       "<IPython.core.display.Markdown object>"
      ]
     },
     "metadata": {},
     "output_type": "display_data"
    },
    {
     "data": {
      "text/html": [
       "<div>\n",
       "<style scoped>\n",
       "    .dataframe tbody tr th:only-of-type {\n",
       "        vertical-align: middle;\n",
       "    }\n",
       "\n",
       "    .dataframe tbody tr th {\n",
       "        vertical-align: top;\n",
       "    }\n",
       "\n",
       "    .dataframe thead th {\n",
       "        text-align: right;\n",
       "    }\n",
       "</style>\n",
       "<table border=\"1\" class=\"dataframe\">\n",
       "  <thead>\n",
       "    <tr style=\"text-align: right;\">\n",
       "      <th>truth\\pred</th>\n",
       "      <th>0</th>\n",
       "      <th>1</th>\n",
       "      <th>2</th>\n",
       "    </tr>\n",
       "  </thead>\n",
       "  <tbody>\n",
       "    <tr>\n",
       "      <th>0</th>\n",
       "      <td>13262</td>\n",
       "      <td>1738</td>\n",
       "      <td>2820</td>\n",
       "    </tr>\n",
       "    <tr>\n",
       "      <th>1</th>\n",
       "      <td>982</td>\n",
       "      <td>4195</td>\n",
       "      <td>418</td>\n",
       "    </tr>\n",
       "    <tr>\n",
       "      <th>2</th>\n",
       "      <td>1616</td>\n",
       "      <td>559</td>\n",
       "      <td>4410</td>\n",
       "    </tr>\n",
       "  </tbody>\n",
       "</table>\n",
       "</div>"
      ],
      "text/plain": [
       "truth\\pred      0     1     2\n",
       "0           13262  1738  2820\n",
       "1             982  4195   418\n",
       "2            1616   559  4410"
      ]
     },
     "metadata": {},
     "output_type": "display_data"
    },
    {
     "name": "stdout",
     "output_type": "stream",
     "text": [
      "              precision    recall  f1-score   support\n",
      "\n",
      "           0       0.84      0.74      0.79     17820\n",
      "           1       0.65      0.75      0.69      5595\n",
      "           2       0.58      0.67      0.62      6585\n",
      "\n",
      "    accuracy                           0.73     30000\n",
      "   macro avg       0.69      0.72      0.70     30000\n",
      "weighted avg       0.74      0.73      0.73     30000\n",
      "\n"
     ]
    },
    {
     "data": {
      "text/markdown": [
       "#### {'n_neighbors': 10}"
      ],
      "text/plain": [
       "<IPython.core.display.Markdown object>"
      ]
     },
     "metadata": {},
     "output_type": "display_data"
    },
    {
     "data": {
      "text/markdown": [
       "#### Training Performance:"
      ],
      "text/plain": [
       "<IPython.core.display.Markdown object>"
      ]
     },
     "metadata": {},
     "output_type": "display_data"
    },
    {
     "data": {
      "text/html": [
       "<div>\n",
       "<style scoped>\n",
       "    .dataframe tbody tr th:only-of-type {\n",
       "        vertical-align: middle;\n",
       "    }\n",
       "\n",
       "    .dataframe tbody tr th {\n",
       "        vertical-align: top;\n",
       "    }\n",
       "\n",
       "    .dataframe thead th {\n",
       "        text-align: right;\n",
       "    }\n",
       "</style>\n",
       "<table border=\"1\" class=\"dataframe\">\n",
       "  <thead>\n",
       "    <tr style=\"text-align: right;\">\n",
       "      <th></th>\n",
       "      <th>fit_time</th>\n",
       "      <th>score_time</th>\n",
       "      <th>test_score</th>\n",
       "    </tr>\n",
       "  </thead>\n",
       "  <tbody>\n",
       "    <tr>\n",
       "      <th>0</th>\n",
       "      <td>0.534756</td>\n",
       "      <td>23.034114</td>\n",
       "      <td>0.728304</td>\n",
       "    </tr>\n",
       "    <tr>\n",
       "      <th>1</th>\n",
       "      <td>0.516666</td>\n",
       "      <td>22.719599</td>\n",
       "      <td>0.723691</td>\n",
       "    </tr>\n",
       "    <tr>\n",
       "      <th>2</th>\n",
       "      <td>0.516264</td>\n",
       "      <td>17.794184</td>\n",
       "      <td>0.721945</td>\n",
       "    </tr>\n",
       "    <tr>\n",
       "      <th>3</th>\n",
       "      <td>0.520218</td>\n",
       "      <td>20.817512</td>\n",
       "      <td>0.719541</td>\n",
       "    </tr>\n",
       "    <tr>\n",
       "      <th>4</th>\n",
       "      <td>0.518215</td>\n",
       "      <td>23.319162</td>\n",
       "      <td>0.718793</td>\n",
       "    </tr>\n",
       "  </tbody>\n",
       "</table>\n",
       "</div>"
      ],
      "text/plain": [
       "   fit_time  score_time  test_score\n",
       "0  0.534756   23.034114    0.728304\n",
       "1  0.516666   22.719599    0.723691\n",
       "2  0.516264   17.794184    0.721945\n",
       "3  0.520218   20.817512    0.719541\n",
       "4  0.518215   23.319162    0.718793"
      ]
     },
     "metadata": {},
     "output_type": "display_data"
    },
    {
     "data": {
      "text/markdown": [
       "#### Testing Performance:"
      ],
      "text/plain": [
       "<IPython.core.display.Markdown object>"
      ]
     },
     "metadata": {},
     "output_type": "display_data"
    },
    {
     "data": {
      "text/html": [
       "<div>\n",
       "<style scoped>\n",
       "    .dataframe tbody tr th:only-of-type {\n",
       "        vertical-align: middle;\n",
       "    }\n",
       "\n",
       "    .dataframe tbody tr th {\n",
       "        vertical-align: top;\n",
       "    }\n",
       "\n",
       "    .dataframe thead th {\n",
       "        text-align: right;\n",
       "    }\n",
       "</style>\n",
       "<table border=\"1\" class=\"dataframe\">\n",
       "  <thead>\n",
       "    <tr style=\"text-align: right;\">\n",
       "      <th>truth\\pred</th>\n",
       "      <th>0</th>\n",
       "      <th>1</th>\n",
       "      <th>2</th>\n",
       "    </tr>\n",
       "  </thead>\n",
       "  <tbody>\n",
       "    <tr>\n",
       "      <th>0</th>\n",
       "      <td>13155</td>\n",
       "      <td>1664</td>\n",
       "      <td>3001</td>\n",
       "    </tr>\n",
       "    <tr>\n",
       "      <th>1</th>\n",
       "      <td>945</td>\n",
       "      <td>4184</td>\n",
       "      <td>466</td>\n",
       "    </tr>\n",
       "    <tr>\n",
       "      <th>2</th>\n",
       "      <td>1604</td>\n",
       "      <td>555</td>\n",
       "      <td>4426</td>\n",
       "    </tr>\n",
       "  </tbody>\n",
       "</table>\n",
       "</div>"
      ],
      "text/plain": [
       "truth\\pred      0     1     2\n",
       "0           13155  1664  3001\n",
       "1             945  4184   466\n",
       "2            1604   555  4426"
      ]
     },
     "metadata": {},
     "output_type": "display_data"
    },
    {
     "name": "stdout",
     "output_type": "stream",
     "text": [
      "              precision    recall  f1-score   support\n",
      "\n",
      "           0       0.84      0.74      0.78     17820\n",
      "           1       0.65      0.75      0.70      5595\n",
      "           2       0.56      0.67      0.61      6585\n",
      "\n",
      "    accuracy                           0.73     30000\n",
      "   macro avg       0.68      0.72      0.70     30000\n",
      "weighted avg       0.74      0.73      0.73     30000\n",
      "\n"
     ]
    },
    {
     "data": {
      "text/markdown": [
       "#### {'n_neighbors': 15}"
      ],
      "text/plain": [
       "<IPython.core.display.Markdown object>"
      ]
     },
     "metadata": {},
     "output_type": "display_data"
    },
    {
     "data": {
      "text/markdown": [
       "#### Training Performance:"
      ],
      "text/plain": [
       "<IPython.core.display.Markdown object>"
      ]
     },
     "metadata": {},
     "output_type": "display_data"
    },
    {
     "data": {
      "text/html": [
       "<div>\n",
       "<style scoped>\n",
       "    .dataframe tbody tr th:only-of-type {\n",
       "        vertical-align: middle;\n",
       "    }\n",
       "\n",
       "    .dataframe tbody tr th {\n",
       "        vertical-align: top;\n",
       "    }\n",
       "\n",
       "    .dataframe thead th {\n",
       "        text-align: right;\n",
       "    }\n",
       "</style>\n",
       "<table border=\"1\" class=\"dataframe\">\n",
       "  <thead>\n",
       "    <tr style=\"text-align: right;\">\n",
       "      <th></th>\n",
       "      <th>fit_time</th>\n",
       "      <th>score_time</th>\n",
       "      <th>test_score</th>\n",
       "    </tr>\n",
       "  </thead>\n",
       "  <tbody>\n",
       "    <tr>\n",
       "      <th>0</th>\n",
       "      <td>0.524993</td>\n",
       "      <td>24.687350</td>\n",
       "      <td>0.725561</td>\n",
       "    </tr>\n",
       "    <tr>\n",
       "      <th>1</th>\n",
       "      <td>0.524052</td>\n",
       "      <td>25.362343</td>\n",
       "      <td>0.723441</td>\n",
       "    </tr>\n",
       "    <tr>\n",
       "      <th>2</th>\n",
       "      <td>0.511130</td>\n",
       "      <td>20.247196</td>\n",
       "      <td>0.724813</td>\n",
       "    </tr>\n",
       "    <tr>\n",
       "      <th>3</th>\n",
       "      <td>0.522579</td>\n",
       "      <td>23.656578</td>\n",
       "      <td>0.715800</td>\n",
       "    </tr>\n",
       "    <tr>\n",
       "      <th>4</th>\n",
       "      <td>0.514059</td>\n",
       "      <td>26.158248</td>\n",
       "      <td>0.715052</td>\n",
       "    </tr>\n",
       "  </tbody>\n",
       "</table>\n",
       "</div>"
      ],
      "text/plain": [
       "   fit_time  score_time  test_score\n",
       "0  0.524993   24.687350    0.725561\n",
       "1  0.524052   25.362343    0.723441\n",
       "2  0.511130   20.247196    0.724813\n",
       "3  0.522579   23.656578    0.715800\n",
       "4  0.514059   26.158248    0.715052"
      ]
     },
     "metadata": {},
     "output_type": "display_data"
    },
    {
     "data": {
      "text/markdown": [
       "#### Testing Performance:"
      ],
      "text/plain": [
       "<IPython.core.display.Markdown object>"
      ]
     },
     "metadata": {},
     "output_type": "display_data"
    },
    {
     "data": {
      "text/html": [
       "<div>\n",
       "<style scoped>\n",
       "    .dataframe tbody tr th:only-of-type {\n",
       "        vertical-align: middle;\n",
       "    }\n",
       "\n",
       "    .dataframe tbody tr th {\n",
       "        vertical-align: top;\n",
       "    }\n",
       "\n",
       "    .dataframe thead th {\n",
       "        text-align: right;\n",
       "    }\n",
       "</style>\n",
       "<table border=\"1\" class=\"dataframe\">\n",
       "  <thead>\n",
       "    <tr style=\"text-align: right;\">\n",
       "      <th>truth\\pred</th>\n",
       "      <th>0</th>\n",
       "      <th>1</th>\n",
       "      <th>2</th>\n",
       "    </tr>\n",
       "  </thead>\n",
       "  <tbody>\n",
       "    <tr>\n",
       "      <th>0</th>\n",
       "      <td>13024</td>\n",
       "      <td>1580</td>\n",
       "      <td>3216</td>\n",
       "    </tr>\n",
       "    <tr>\n",
       "      <th>1</th>\n",
       "      <td>919</td>\n",
       "      <td>4214</td>\n",
       "      <td>462</td>\n",
       "    </tr>\n",
       "    <tr>\n",
       "      <th>2</th>\n",
       "      <td>1634</td>\n",
       "      <td>532</td>\n",
       "      <td>4419</td>\n",
       "    </tr>\n",
       "  </tbody>\n",
       "</table>\n",
       "</div>"
      ],
      "text/plain": [
       "truth\\pred      0     1     2\n",
       "0           13024  1580  3216\n",
       "1             919  4214   462\n",
       "2            1634   532  4419"
      ]
     },
     "metadata": {},
     "output_type": "display_data"
    },
    {
     "name": "stdout",
     "output_type": "stream",
     "text": [
      "              precision    recall  f1-score   support\n",
      "\n",
      "           0       0.84      0.73      0.78     17820\n",
      "           1       0.67      0.75      0.71      5595\n",
      "           2       0.55      0.67      0.60      6585\n",
      "\n",
      "    accuracy                           0.72     30000\n",
      "   macro avg       0.68      0.72      0.70     30000\n",
      "weighted avg       0.74      0.72      0.73     30000\n",
      "\n"
     ]
    }
   ],
   "source": [
    "param_grid = ParameterGrid({\n",
    "    'n_neighbors': [5, 10, 15]\n",
    "})\n",
    "train_model('knn', param_grid, datasets)"
   ]
  },
  {
   "cell_type": "markdown",
   "id": "56457faa",
   "metadata": {
    "papermill": {
     "duration": 0.051353,
     "end_time": "2022-03-06T12:11:38.421457",
     "exception": false,
     "start_time": "2022-03-06T12:11:38.370104",
     "status": "completed"
    },
    "tags": []
   },
   "source": [
    "## Random Forest"
   ]
  },
  {
   "cell_type": "code",
   "execution_count": 15,
   "id": "cef48b61",
   "metadata": {
    "execution": {
     "iopub.execute_input": "2022-03-06T12:11:38.533244Z",
     "iopub.status.busy": "2022-03-06T12:11:38.532183Z",
     "iopub.status.idle": "2022-03-06T12:31:34.217169Z",
     "shell.execute_reply": "2022-03-06T12:31:34.217726Z",
     "shell.execute_reply.started": "2022-03-05T14:34:51.2576Z"
    },
    "papermill": {
     "duration": 1195.745814,
     "end_time": "2022-03-06T12:31:34.217933",
     "exception": false,
     "start_time": "2022-03-06T12:11:38.472119",
     "status": "completed"
    },
    "tags": []
   },
   "outputs": [
    {
     "data": {
      "text/markdown": [
       "### Test size: 0.2"
      ],
      "text/plain": [
       "<IPython.core.display.Markdown object>"
      ]
     },
     "metadata": {},
     "output_type": "display_data"
    },
    {
     "data": {
      "text/markdown": [
       "#### {'min_samples_leaf': 1}"
      ],
      "text/plain": [
       "<IPython.core.display.Markdown object>"
      ]
     },
     "metadata": {},
     "output_type": "display_data"
    },
    {
     "data": {
      "text/markdown": [
       "#### Training Performance:"
      ],
      "text/plain": [
       "<IPython.core.display.Markdown object>"
      ]
     },
     "metadata": {},
     "output_type": "display_data"
    },
    {
     "data": {
      "text/html": [
       "<div>\n",
       "<style scoped>\n",
       "    .dataframe tbody tr th:only-of-type {\n",
       "        vertical-align: middle;\n",
       "    }\n",
       "\n",
       "    .dataframe tbody tr th {\n",
       "        vertical-align: top;\n",
       "    }\n",
       "\n",
       "    .dataframe thead th {\n",
       "        text-align: right;\n",
       "    }\n",
       "</style>\n",
       "<table border=\"1\" class=\"dataframe\">\n",
       "  <thead>\n",
       "    <tr style=\"text-align: right;\">\n",
       "      <th></th>\n",
       "      <th>fit_time</th>\n",
       "      <th>score_time</th>\n",
       "      <th>test_score</th>\n",
       "    </tr>\n",
       "  </thead>\n",
       "  <tbody>\n",
       "    <tr>\n",
       "      <th>0</th>\n",
       "      <td>45.675269</td>\n",
       "      <td>0.227156</td>\n",
       "      <td>0.886730</td>\n",
       "    </tr>\n",
       "    <tr>\n",
       "      <th>1</th>\n",
       "      <td>46.613976</td>\n",
       "      <td>0.223292</td>\n",
       "      <td>0.894852</td>\n",
       "    </tr>\n",
       "    <tr>\n",
       "      <th>2</th>\n",
       "      <td>45.547970</td>\n",
       "      <td>0.224702</td>\n",
       "      <td>0.885303</td>\n",
       "    </tr>\n",
       "    <tr>\n",
       "      <th>3</th>\n",
       "      <td>46.398122</td>\n",
       "      <td>0.226215</td>\n",
       "      <td>0.888816</td>\n",
       "    </tr>\n",
       "    <tr>\n",
       "      <th>4</th>\n",
       "      <td>45.338431</td>\n",
       "      <td>0.227250</td>\n",
       "      <td>0.886401</td>\n",
       "    </tr>\n",
       "  </tbody>\n",
       "</table>\n",
       "</div>"
      ],
      "text/plain": [
       "    fit_time  score_time  test_score\n",
       "0  45.675269    0.227156    0.886730\n",
       "1  46.613976    0.223292    0.894852\n",
       "2  45.547970    0.224702    0.885303\n",
       "3  46.398122    0.226215    0.888816\n",
       "4  45.338431    0.227250    0.886401"
      ]
     },
     "metadata": {},
     "output_type": "display_data"
    },
    {
     "data": {
      "text/markdown": [
       "#### Testing Performance:"
      ],
      "text/plain": [
       "<IPython.core.display.Markdown object>"
      ]
     },
     "metadata": {},
     "output_type": "display_data"
    },
    {
     "data": {
      "text/html": [
       "<div>\n",
       "<style scoped>\n",
       "    .dataframe tbody tr th:only-of-type {\n",
       "        vertical-align: middle;\n",
       "    }\n",
       "\n",
       "    .dataframe tbody tr th {\n",
       "        vertical-align: top;\n",
       "    }\n",
       "\n",
       "    .dataframe thead th {\n",
       "        text-align: right;\n",
       "    }\n",
       "</style>\n",
       "<table border=\"1\" class=\"dataframe\">\n",
       "  <thead>\n",
       "    <tr style=\"text-align: right;\">\n",
       "      <th>truth\\pred</th>\n",
       "      <th>0</th>\n",
       "      <th>1</th>\n",
       "      <th>2</th>\n",
       "    </tr>\n",
       "  </thead>\n",
       "  <tbody>\n",
       "    <tr>\n",
       "      <th>0</th>\n",
       "      <td>10431</td>\n",
       "      <td>305</td>\n",
       "      <td>1180</td>\n",
       "    </tr>\n",
       "    <tr>\n",
       "      <th>1</th>\n",
       "      <td>278</td>\n",
       "      <td>3434</td>\n",
       "      <td>64</td>\n",
       "    </tr>\n",
       "    <tr>\n",
       "      <th>2</th>\n",
       "      <td>393</td>\n",
       "      <td>6</td>\n",
       "      <td>3909</td>\n",
       "    </tr>\n",
       "  </tbody>\n",
       "</table>\n",
       "</div>"
      ],
      "text/plain": [
       "truth\\pred      0     1     2\n",
       "0           10431   305  1180\n",
       "1             278  3434    64\n",
       "2             393     6  3909"
      ]
     },
     "metadata": {},
     "output_type": "display_data"
    },
    {
     "name": "stdout",
     "output_type": "stream",
     "text": [
      "              precision    recall  f1-score   support\n",
      "\n",
      "           0       0.94      0.88      0.91     11916\n",
      "           1       0.92      0.91      0.91      3776\n",
      "           2       0.76      0.91      0.83      4308\n",
      "\n",
      "    accuracy                           0.89     20000\n",
      "   macro avg       0.87      0.90      0.88     20000\n",
      "weighted avg       0.90      0.89      0.89     20000\n",
      "\n"
     ]
    },
    {
     "data": {
      "text/markdown": [
       "#### {'min_samples_leaf': 5}"
      ],
      "text/plain": [
       "<IPython.core.display.Markdown object>"
      ]
     },
     "metadata": {},
     "output_type": "display_data"
    },
    {
     "data": {
      "text/markdown": [
       "#### Training Performance:"
      ],
      "text/plain": [
       "<IPython.core.display.Markdown object>"
      ]
     },
     "metadata": {},
     "output_type": "display_data"
    },
    {
     "data": {
      "text/html": [
       "<div>\n",
       "<style scoped>\n",
       "    .dataframe tbody tr th:only-of-type {\n",
       "        vertical-align: middle;\n",
       "    }\n",
       "\n",
       "    .dataframe tbody tr th {\n",
       "        vertical-align: top;\n",
       "    }\n",
       "\n",
       "    .dataframe thead th {\n",
       "        text-align: right;\n",
       "    }\n",
       "</style>\n",
       "<table border=\"1\" class=\"dataframe\">\n",
       "  <thead>\n",
       "    <tr style=\"text-align: right;\">\n",
       "      <th></th>\n",
       "      <th>fit_time</th>\n",
       "      <th>score_time</th>\n",
       "      <th>test_score</th>\n",
       "    </tr>\n",
       "  </thead>\n",
       "  <tbody>\n",
       "    <tr>\n",
       "      <th>0</th>\n",
       "      <td>41.612931</td>\n",
       "      <td>0.196904</td>\n",
       "      <td>0.880474</td>\n",
       "    </tr>\n",
       "    <tr>\n",
       "      <th>1</th>\n",
       "      <td>41.560394</td>\n",
       "      <td>0.196464</td>\n",
       "      <td>0.890462</td>\n",
       "    </tr>\n",
       "    <tr>\n",
       "      <th>2</th>\n",
       "      <td>41.109924</td>\n",
       "      <td>0.197646</td>\n",
       "      <td>0.879596</td>\n",
       "    </tr>\n",
       "    <tr>\n",
       "      <th>3</th>\n",
       "      <td>41.548987</td>\n",
       "      <td>0.199101</td>\n",
       "      <td>0.885633</td>\n",
       "    </tr>\n",
       "    <tr>\n",
       "      <th>4</th>\n",
       "      <td>42.266616</td>\n",
       "      <td>0.195365</td>\n",
       "      <td>0.891450</td>\n",
       "    </tr>\n",
       "  </tbody>\n",
       "</table>\n",
       "</div>"
      ],
      "text/plain": [
       "    fit_time  score_time  test_score\n",
       "0  41.612931    0.196904    0.880474\n",
       "1  41.560394    0.196464    0.890462\n",
       "2  41.109924    0.197646    0.879596\n",
       "3  41.548987    0.199101    0.885633\n",
       "4  42.266616    0.195365    0.891450"
      ]
     },
     "metadata": {},
     "output_type": "display_data"
    },
    {
     "data": {
      "text/markdown": [
       "#### Testing Performance:"
      ],
      "text/plain": [
       "<IPython.core.display.Markdown object>"
      ]
     },
     "metadata": {},
     "output_type": "display_data"
    },
    {
     "data": {
      "text/html": [
       "<div>\n",
       "<style scoped>\n",
       "    .dataframe tbody tr th:only-of-type {\n",
       "        vertical-align: middle;\n",
       "    }\n",
       "\n",
       "    .dataframe tbody tr th {\n",
       "        vertical-align: top;\n",
       "    }\n",
       "\n",
       "    .dataframe thead th {\n",
       "        text-align: right;\n",
       "    }\n",
       "</style>\n",
       "<table border=\"1\" class=\"dataframe\">\n",
       "  <thead>\n",
       "    <tr style=\"text-align: right;\">\n",
       "      <th>truth\\pred</th>\n",
       "      <th>0</th>\n",
       "      <th>1</th>\n",
       "      <th>2</th>\n",
       "    </tr>\n",
       "  </thead>\n",
       "  <tbody>\n",
       "    <tr>\n",
       "      <th>0</th>\n",
       "      <td>10371</td>\n",
       "      <td>326</td>\n",
       "      <td>1219</td>\n",
       "    </tr>\n",
       "    <tr>\n",
       "      <th>1</th>\n",
       "      <td>276</td>\n",
       "      <td>3427</td>\n",
       "      <td>73</td>\n",
       "    </tr>\n",
       "    <tr>\n",
       "      <th>2</th>\n",
       "      <td>419</td>\n",
       "      <td>5</td>\n",
       "      <td>3884</td>\n",
       "    </tr>\n",
       "  </tbody>\n",
       "</table>\n",
       "</div>"
      ],
      "text/plain": [
       "truth\\pred      0     1     2\n",
       "0           10371   326  1219\n",
       "1             276  3427    73\n",
       "2             419     5  3884"
      ]
     },
     "metadata": {},
     "output_type": "display_data"
    },
    {
     "name": "stdout",
     "output_type": "stream",
     "text": [
      "              precision    recall  f1-score   support\n",
      "\n",
      "           0       0.94      0.87      0.90     11916\n",
      "           1       0.91      0.91      0.91      3776\n",
      "           2       0.75      0.90      0.82      4308\n",
      "\n",
      "    accuracy                           0.88     20000\n",
      "   macro avg       0.87      0.89      0.88     20000\n",
      "weighted avg       0.89      0.88      0.89     20000\n",
      "\n"
     ]
    },
    {
     "data": {
      "text/markdown": [
       "#### {'min_samples_leaf': 10}"
      ],
      "text/plain": [
       "<IPython.core.display.Markdown object>"
      ]
     },
     "metadata": {},
     "output_type": "display_data"
    },
    {
     "data": {
      "text/markdown": [
       "#### Training Performance:"
      ],
      "text/plain": [
       "<IPython.core.display.Markdown object>"
      ]
     },
     "metadata": {},
     "output_type": "display_data"
    },
    {
     "data": {
      "text/html": [
       "<div>\n",
       "<style scoped>\n",
       "    .dataframe tbody tr th:only-of-type {\n",
       "        vertical-align: middle;\n",
       "    }\n",
       "\n",
       "    .dataframe tbody tr th {\n",
       "        vertical-align: top;\n",
       "    }\n",
       "\n",
       "    .dataframe thead th {\n",
       "        text-align: right;\n",
       "    }\n",
       "</style>\n",
       "<table border=\"1\" class=\"dataframe\">\n",
       "  <thead>\n",
       "    <tr style=\"text-align: right;\">\n",
       "      <th></th>\n",
       "      <th>fit_time</th>\n",
       "      <th>score_time</th>\n",
       "      <th>test_score</th>\n",
       "    </tr>\n",
       "  </thead>\n",
       "  <tbody>\n",
       "    <tr>\n",
       "      <th>0</th>\n",
       "      <td>39.903651</td>\n",
       "      <td>0.189353</td>\n",
       "      <td>0.876413</td>\n",
       "    </tr>\n",
       "    <tr>\n",
       "      <th>1</th>\n",
       "      <td>39.905484</td>\n",
       "      <td>0.187791</td>\n",
       "      <td>0.882779</td>\n",
       "    </tr>\n",
       "    <tr>\n",
       "      <th>2</th>\n",
       "      <td>40.343466</td>\n",
       "      <td>0.196750</td>\n",
       "      <td>0.876413</td>\n",
       "    </tr>\n",
       "    <tr>\n",
       "      <th>3</th>\n",
       "      <td>40.329696</td>\n",
       "      <td>0.185294</td>\n",
       "      <td>0.881791</td>\n",
       "    </tr>\n",
       "    <tr>\n",
       "      <th>4</th>\n",
       "      <td>39.510999</td>\n",
       "      <td>0.188216</td>\n",
       "      <td>0.880803</td>\n",
       "    </tr>\n",
       "  </tbody>\n",
       "</table>\n",
       "</div>"
      ],
      "text/plain": [
       "    fit_time  score_time  test_score\n",
       "0  39.903651    0.189353    0.876413\n",
       "1  39.905484    0.187791    0.882779\n",
       "2  40.343466    0.196750    0.876413\n",
       "3  40.329696    0.185294    0.881791\n",
       "4  39.510999    0.188216    0.880803"
      ]
     },
     "metadata": {},
     "output_type": "display_data"
    },
    {
     "data": {
      "text/markdown": [
       "#### Testing Performance:"
      ],
      "text/plain": [
       "<IPython.core.display.Markdown object>"
      ]
     },
     "metadata": {},
     "output_type": "display_data"
    },
    {
     "data": {
      "text/html": [
       "<div>\n",
       "<style scoped>\n",
       "    .dataframe tbody tr th:only-of-type {\n",
       "        vertical-align: middle;\n",
       "    }\n",
       "\n",
       "    .dataframe tbody tr th {\n",
       "        vertical-align: top;\n",
       "    }\n",
       "\n",
       "    .dataframe thead th {\n",
       "        text-align: right;\n",
       "    }\n",
       "</style>\n",
       "<table border=\"1\" class=\"dataframe\">\n",
       "  <thead>\n",
       "    <tr style=\"text-align: right;\">\n",
       "      <th>truth\\pred</th>\n",
       "      <th>0</th>\n",
       "      <th>1</th>\n",
       "      <th>2</th>\n",
       "    </tr>\n",
       "  </thead>\n",
       "  <tbody>\n",
       "    <tr>\n",
       "      <th>0</th>\n",
       "      <td>10276</td>\n",
       "      <td>349</td>\n",
       "      <td>1291</td>\n",
       "    </tr>\n",
       "    <tr>\n",
       "      <th>1</th>\n",
       "      <td>291</td>\n",
       "      <td>3400</td>\n",
       "      <td>85</td>\n",
       "    </tr>\n",
       "    <tr>\n",
       "      <th>2</th>\n",
       "      <td>463</td>\n",
       "      <td>8</td>\n",
       "      <td>3837</td>\n",
       "    </tr>\n",
       "  </tbody>\n",
       "</table>\n",
       "</div>"
      ],
      "text/plain": [
       "truth\\pred      0     1     2\n",
       "0           10276   349  1291\n",
       "1             291  3400    85\n",
       "2             463     8  3837"
      ]
     },
     "metadata": {},
     "output_type": "display_data"
    },
    {
     "name": "stdout",
     "output_type": "stream",
     "text": [
      "              precision    recall  f1-score   support\n",
      "\n",
      "           0       0.93      0.86      0.90     11916\n",
      "           1       0.90      0.90      0.90      3776\n",
      "           2       0.74      0.89      0.81      4308\n",
      "\n",
      "    accuracy                           0.88     20000\n",
      "   macro avg       0.86      0.88      0.87     20000\n",
      "weighted avg       0.88      0.88      0.88     20000\n",
      "\n"
     ]
    },
    {
     "data": {
      "text/markdown": [
       "### Test size: 0.3"
      ],
      "text/plain": [
       "<IPython.core.display.Markdown object>"
      ]
     },
     "metadata": {},
     "output_type": "display_data"
    },
    {
     "data": {
      "text/markdown": [
       "#### {'min_samples_leaf': 1}"
      ],
      "text/plain": [
       "<IPython.core.display.Markdown object>"
      ]
     },
     "metadata": {},
     "output_type": "display_data"
    },
    {
     "data": {
      "text/markdown": [
       "#### Training Performance:"
      ],
      "text/plain": [
       "<IPython.core.display.Markdown object>"
      ]
     },
     "metadata": {},
     "output_type": "display_data"
    },
    {
     "data": {
      "text/html": [
       "<div>\n",
       "<style scoped>\n",
       "    .dataframe tbody tr th:only-of-type {\n",
       "        vertical-align: middle;\n",
       "    }\n",
       "\n",
       "    .dataframe tbody tr th {\n",
       "        vertical-align: top;\n",
       "    }\n",
       "\n",
       "    .dataframe thead th {\n",
       "        text-align: right;\n",
       "    }\n",
       "</style>\n",
       "<table border=\"1\" class=\"dataframe\">\n",
       "  <thead>\n",
       "    <tr style=\"text-align: right;\">\n",
       "      <th></th>\n",
       "      <th>fit_time</th>\n",
       "      <th>score_time</th>\n",
       "      <th>test_score</th>\n",
       "    </tr>\n",
       "  </thead>\n",
       "  <tbody>\n",
       "    <tr>\n",
       "      <th>0</th>\n",
       "      <td>39.973126</td>\n",
       "      <td>0.198800</td>\n",
       "      <td>0.888404</td>\n",
       "    </tr>\n",
       "    <tr>\n",
       "      <th>1</th>\n",
       "      <td>39.499410</td>\n",
       "      <td>0.200034</td>\n",
       "      <td>0.890773</td>\n",
       "    </tr>\n",
       "    <tr>\n",
       "      <th>2</th>\n",
       "      <td>39.751418</td>\n",
       "      <td>0.205147</td>\n",
       "      <td>0.885162</td>\n",
       "    </tr>\n",
       "    <tr>\n",
       "      <th>3</th>\n",
       "      <td>39.989056</td>\n",
       "      <td>0.208263</td>\n",
       "      <td>0.889637</td>\n",
       "    </tr>\n",
       "    <tr>\n",
       "      <th>4</th>\n",
       "      <td>38.928485</td>\n",
       "      <td>0.203368</td>\n",
       "      <td>0.884275</td>\n",
       "    </tr>\n",
       "  </tbody>\n",
       "</table>\n",
       "</div>"
      ],
      "text/plain": [
       "    fit_time  score_time  test_score\n",
       "0  39.973126    0.198800    0.888404\n",
       "1  39.499410    0.200034    0.890773\n",
       "2  39.751418    0.205147    0.885162\n",
       "3  39.989056    0.208263    0.889637\n",
       "4  38.928485    0.203368    0.884275"
      ]
     },
     "metadata": {},
     "output_type": "display_data"
    },
    {
     "data": {
      "text/markdown": [
       "#### Testing Performance:"
      ],
      "text/plain": [
       "<IPython.core.display.Markdown object>"
      ]
     },
     "metadata": {},
     "output_type": "display_data"
    },
    {
     "data": {
      "text/html": [
       "<div>\n",
       "<style scoped>\n",
       "    .dataframe tbody tr th:only-of-type {\n",
       "        vertical-align: middle;\n",
       "    }\n",
       "\n",
       "    .dataframe tbody tr th {\n",
       "        vertical-align: top;\n",
       "    }\n",
       "\n",
       "    .dataframe thead th {\n",
       "        text-align: right;\n",
       "    }\n",
       "</style>\n",
       "<table border=\"1\" class=\"dataframe\">\n",
       "  <thead>\n",
       "    <tr style=\"text-align: right;\">\n",
       "      <th>truth\\pred</th>\n",
       "      <th>0</th>\n",
       "      <th>1</th>\n",
       "      <th>2</th>\n",
       "    </tr>\n",
       "  </thead>\n",
       "  <tbody>\n",
       "    <tr>\n",
       "      <th>0</th>\n",
       "      <td>15375</td>\n",
       "      <td>473</td>\n",
       "      <td>1972</td>\n",
       "    </tr>\n",
       "    <tr>\n",
       "      <th>1</th>\n",
       "      <td>495</td>\n",
       "      <td>4999</td>\n",
       "      <td>101</td>\n",
       "    </tr>\n",
       "    <tr>\n",
       "      <th>2</th>\n",
       "      <td>637</td>\n",
       "      <td>10</td>\n",
       "      <td>5938</td>\n",
       "    </tr>\n",
       "  </tbody>\n",
       "</table>\n",
       "</div>"
      ],
      "text/plain": [
       "truth\\pred      0     1     2\n",
       "0           15375   473  1972\n",
       "1             495  4999   101\n",
       "2             637    10  5938"
      ]
     },
     "metadata": {},
     "output_type": "display_data"
    },
    {
     "name": "stdout",
     "output_type": "stream",
     "text": [
      "              precision    recall  f1-score   support\n",
      "\n",
      "           0       0.93      0.86      0.90     17820\n",
      "           1       0.91      0.89      0.90      5595\n",
      "           2       0.74      0.90      0.81      6585\n",
      "\n",
      "    accuracy                           0.88     30000\n",
      "   macro avg       0.86      0.89      0.87     30000\n",
      "weighted avg       0.89      0.88      0.88     30000\n",
      "\n"
     ]
    },
    {
     "data": {
      "text/markdown": [
       "#### {'min_samples_leaf': 5}"
      ],
      "text/plain": [
       "<IPython.core.display.Markdown object>"
      ]
     },
     "metadata": {},
     "output_type": "display_data"
    },
    {
     "data": {
      "text/markdown": [
       "#### Training Performance:"
      ],
      "text/plain": [
       "<IPython.core.display.Markdown object>"
      ]
     },
     "metadata": {},
     "output_type": "display_data"
    },
    {
     "data": {
      "text/html": [
       "<div>\n",
       "<style scoped>\n",
       "    .dataframe tbody tr th:only-of-type {\n",
       "        vertical-align: middle;\n",
       "    }\n",
       "\n",
       "    .dataframe tbody tr th {\n",
       "        vertical-align: top;\n",
       "    }\n",
       "\n",
       "    .dataframe thead th {\n",
       "        text-align: right;\n",
       "    }\n",
       "</style>\n",
       "<table border=\"1\" class=\"dataframe\">\n",
       "  <thead>\n",
       "    <tr style=\"text-align: right;\">\n",
       "      <th></th>\n",
       "      <th>fit_time</th>\n",
       "      <th>score_time</th>\n",
       "      <th>test_score</th>\n",
       "    </tr>\n",
       "  </thead>\n",
       "  <tbody>\n",
       "    <tr>\n",
       "      <th>0</th>\n",
       "      <td>35.865542</td>\n",
       "      <td>0.199885</td>\n",
       "      <td>0.882294</td>\n",
       "    </tr>\n",
       "    <tr>\n",
       "      <th>1</th>\n",
       "      <td>35.907469</td>\n",
       "      <td>0.179981</td>\n",
       "      <td>0.885037</td>\n",
       "    </tr>\n",
       "    <tr>\n",
       "      <th>2</th>\n",
       "      <td>36.045514</td>\n",
       "      <td>0.183883</td>\n",
       "      <td>0.878678</td>\n",
       "    </tr>\n",
       "    <tr>\n",
       "      <th>3</th>\n",
       "      <td>36.469109</td>\n",
       "      <td>0.182810</td>\n",
       "      <td>0.885397</td>\n",
       "    </tr>\n",
       "    <tr>\n",
       "      <th>4</th>\n",
       "      <td>36.163516</td>\n",
       "      <td>0.179604</td>\n",
       "      <td>0.878913</td>\n",
       "    </tr>\n",
       "  </tbody>\n",
       "</table>\n",
       "</div>"
      ],
      "text/plain": [
       "    fit_time  score_time  test_score\n",
       "0  35.865542    0.199885    0.882294\n",
       "1  35.907469    0.179981    0.885037\n",
       "2  36.045514    0.183883    0.878678\n",
       "3  36.469109    0.182810    0.885397\n",
       "4  36.163516    0.179604    0.878913"
      ]
     },
     "metadata": {},
     "output_type": "display_data"
    },
    {
     "data": {
      "text/markdown": [
       "#### Testing Performance:"
      ],
      "text/plain": [
       "<IPython.core.display.Markdown object>"
      ]
     },
     "metadata": {},
     "output_type": "display_data"
    },
    {
     "data": {
      "text/html": [
       "<div>\n",
       "<style scoped>\n",
       "    .dataframe tbody tr th:only-of-type {\n",
       "        vertical-align: middle;\n",
       "    }\n",
       "\n",
       "    .dataframe tbody tr th {\n",
       "        vertical-align: top;\n",
       "    }\n",
       "\n",
       "    .dataframe thead th {\n",
       "        text-align: right;\n",
       "    }\n",
       "</style>\n",
       "<table border=\"1\" class=\"dataframe\">\n",
       "  <thead>\n",
       "    <tr style=\"text-align: right;\">\n",
       "      <th>truth\\pred</th>\n",
       "      <th>0</th>\n",
       "      <th>1</th>\n",
       "      <th>2</th>\n",
       "    </tr>\n",
       "  </thead>\n",
       "  <tbody>\n",
       "    <tr>\n",
       "      <th>0</th>\n",
       "      <td>15291</td>\n",
       "      <td>470</td>\n",
       "      <td>2059</td>\n",
       "    </tr>\n",
       "    <tr>\n",
       "      <th>1</th>\n",
       "      <td>488</td>\n",
       "      <td>5001</td>\n",
       "      <td>106</td>\n",
       "    </tr>\n",
       "    <tr>\n",
       "      <th>2</th>\n",
       "      <td>633</td>\n",
       "      <td>6</td>\n",
       "      <td>5946</td>\n",
       "    </tr>\n",
       "  </tbody>\n",
       "</table>\n",
       "</div>"
      ],
      "text/plain": [
       "truth\\pred      0     1     2\n",
       "0           15291   470  2059\n",
       "1             488  5001   106\n",
       "2             633     6  5946"
      ]
     },
     "metadata": {},
     "output_type": "display_data"
    },
    {
     "name": "stdout",
     "output_type": "stream",
     "text": [
      "              precision    recall  f1-score   support\n",
      "\n",
      "           0       0.93      0.86      0.89     17820\n",
      "           1       0.91      0.89      0.90      5595\n",
      "           2       0.73      0.90      0.81      6585\n",
      "\n",
      "    accuracy                           0.87     30000\n",
      "   macro avg       0.86      0.88      0.87     30000\n",
      "weighted avg       0.88      0.87      0.88     30000\n",
      "\n"
     ]
    },
    {
     "data": {
      "text/markdown": [
       "#### {'min_samples_leaf': 10}"
      ],
      "text/plain": [
       "<IPython.core.display.Markdown object>"
      ]
     },
     "metadata": {},
     "output_type": "display_data"
    },
    {
     "data": {
      "text/markdown": [
       "#### Training Performance:"
      ],
      "text/plain": [
       "<IPython.core.display.Markdown object>"
      ]
     },
     "metadata": {},
     "output_type": "display_data"
    },
    {
     "data": {
      "text/html": [
       "<div>\n",
       "<style scoped>\n",
       "    .dataframe tbody tr th:only-of-type {\n",
       "        vertical-align: middle;\n",
       "    }\n",
       "\n",
       "    .dataframe tbody tr th {\n",
       "        vertical-align: top;\n",
       "    }\n",
       "\n",
       "    .dataframe thead th {\n",
       "        text-align: right;\n",
       "    }\n",
       "</style>\n",
       "<table border=\"1\" class=\"dataframe\">\n",
       "  <thead>\n",
       "    <tr style=\"text-align: right;\">\n",
       "      <th></th>\n",
       "      <th>fit_time</th>\n",
       "      <th>score_time</th>\n",
       "      <th>test_score</th>\n",
       "    </tr>\n",
       "  </thead>\n",
       "  <tbody>\n",
       "    <tr>\n",
       "      <th>0</th>\n",
       "      <td>34.234166</td>\n",
       "      <td>0.160088</td>\n",
       "      <td>0.876060</td>\n",
       "    </tr>\n",
       "    <tr>\n",
       "      <th>1</th>\n",
       "      <td>33.971726</td>\n",
       "      <td>0.159327</td>\n",
       "      <td>0.875935</td>\n",
       "    </tr>\n",
       "    <tr>\n",
       "      <th>2</th>\n",
       "      <td>34.160286</td>\n",
       "      <td>0.158448</td>\n",
       "      <td>0.873691</td>\n",
       "    </tr>\n",
       "    <tr>\n",
       "      <th>3</th>\n",
       "      <td>34.014092</td>\n",
       "      <td>0.170868</td>\n",
       "      <td>0.882030</td>\n",
       "    </tr>\n",
       "    <tr>\n",
       "      <th>4</th>\n",
       "      <td>33.202309</td>\n",
       "      <td>0.159791</td>\n",
       "      <td>0.876543</td>\n",
       "    </tr>\n",
       "  </tbody>\n",
       "</table>\n",
       "</div>"
      ],
      "text/plain": [
       "    fit_time  score_time  test_score\n",
       "0  34.234166    0.160088    0.876060\n",
       "1  33.971726    0.159327    0.875935\n",
       "2  34.160286    0.158448    0.873691\n",
       "3  34.014092    0.170868    0.882030\n",
       "4  33.202309    0.159791    0.876543"
      ]
     },
     "metadata": {},
     "output_type": "display_data"
    },
    {
     "data": {
      "text/markdown": [
       "#### Testing Performance:"
      ],
      "text/plain": [
       "<IPython.core.display.Markdown object>"
      ]
     },
     "metadata": {},
     "output_type": "display_data"
    },
    {
     "data": {
      "text/html": [
       "<div>\n",
       "<style scoped>\n",
       "    .dataframe tbody tr th:only-of-type {\n",
       "        vertical-align: middle;\n",
       "    }\n",
       "\n",
       "    .dataframe tbody tr th {\n",
       "        vertical-align: top;\n",
       "    }\n",
       "\n",
       "    .dataframe thead th {\n",
       "        text-align: right;\n",
       "    }\n",
       "</style>\n",
       "<table border=\"1\" class=\"dataframe\">\n",
       "  <thead>\n",
       "    <tr style=\"text-align: right;\">\n",
       "      <th>truth\\pred</th>\n",
       "      <th>0</th>\n",
       "      <th>1</th>\n",
       "      <th>2</th>\n",
       "    </tr>\n",
       "  </thead>\n",
       "  <tbody>\n",
       "    <tr>\n",
       "      <th>0</th>\n",
       "      <td>15214</td>\n",
       "      <td>499</td>\n",
       "      <td>2107</td>\n",
       "    </tr>\n",
       "    <tr>\n",
       "      <th>1</th>\n",
       "      <td>507</td>\n",
       "      <td>4965</td>\n",
       "      <td>123</td>\n",
       "    </tr>\n",
       "    <tr>\n",
       "      <th>2</th>\n",
       "      <td>713</td>\n",
       "      <td>8</td>\n",
       "      <td>5864</td>\n",
       "    </tr>\n",
       "  </tbody>\n",
       "</table>\n",
       "</div>"
      ],
      "text/plain": [
       "truth\\pred      0     1     2\n",
       "0           15214   499  2107\n",
       "1             507  4965   123\n",
       "2             713     8  5864"
      ]
     },
     "metadata": {},
     "output_type": "display_data"
    },
    {
     "name": "stdout",
     "output_type": "stream",
     "text": [
      "              precision    recall  f1-score   support\n",
      "\n",
      "           0       0.93      0.85      0.89     17820\n",
      "           1       0.91      0.89      0.90      5595\n",
      "           2       0.72      0.89      0.80      6585\n",
      "\n",
      "    accuracy                           0.87     30000\n",
      "   macro avg       0.85      0.88      0.86     30000\n",
      "weighted avg       0.88      0.87      0.87     30000\n",
      "\n"
     ]
    }
   ],
   "source": [
    "param_grid = ParameterGrid({\n",
    "    'min_samples_leaf': [1, 5, 10]\n",
    "})\n",
    "train_model('rf', param_grid, datasets)"
   ]
  },
  {
   "cell_type": "markdown",
   "id": "82eb412b",
   "metadata": {
    "papermill": {
     "duration": 0.073084,
     "end_time": "2022-03-06T12:31:34.364412",
     "exception": false,
     "start_time": "2022-03-06T12:31:34.291328",
     "status": "completed"
    },
    "tags": []
   },
   "source": [
    "## SVM"
   ]
  },
  {
   "cell_type": "code",
   "execution_count": 16,
   "id": "ecc2d629",
   "metadata": {
    "execution": {
     "iopub.execute_input": "2022-03-06T12:31:34.513478Z",
     "iopub.status.busy": "2022-03-06T12:31:34.512386Z",
     "iopub.status.idle": "2022-03-06T13:48:03.948511Z",
     "shell.execute_reply": "2022-03-06T13:48:03.946579Z",
     "shell.execute_reply.started": "2022-03-05T14:37:43.359731Z"
    },
    "papermill": {
     "duration": 4589.511523,
     "end_time": "2022-03-06T13:48:03.948678",
     "exception": false,
     "start_time": "2022-03-06T12:31:34.437155",
     "status": "completed"
    },
    "tags": []
   },
   "outputs": [
    {
     "data": {
      "text/markdown": [
       "### Test size: 0.2"
      ],
      "text/plain": [
       "<IPython.core.display.Markdown object>"
      ]
     },
     "metadata": {},
     "output_type": "display_data"
    },
    {
     "data": {
      "text/markdown": [
       "#### {'C': 1}"
      ],
      "text/plain": [
       "<IPython.core.display.Markdown object>"
      ]
     },
     "metadata": {},
     "output_type": "display_data"
    },
    {
     "data": {
      "text/markdown": [
       "#### Training Performance:"
      ],
      "text/plain": [
       "<IPython.core.display.Markdown object>"
      ]
     },
     "metadata": {},
     "output_type": "display_data"
    },
    {
     "data": {
      "text/html": [
       "<div>\n",
       "<style scoped>\n",
       "    .dataframe tbody tr th:only-of-type {\n",
       "        vertical-align: middle;\n",
       "    }\n",
       "\n",
       "    .dataframe tbody tr th {\n",
       "        vertical-align: top;\n",
       "    }\n",
       "\n",
       "    .dataframe thead th {\n",
       "        text-align: right;\n",
       "    }\n",
       "</style>\n",
       "<table border=\"1\" class=\"dataframe\">\n",
       "  <thead>\n",
       "    <tr style=\"text-align: right;\">\n",
       "      <th></th>\n",
       "      <th>fit_time</th>\n",
       "      <th>score_time</th>\n",
       "      <th>test_score</th>\n",
       "    </tr>\n",
       "  </thead>\n",
       "  <tbody>\n",
       "    <tr>\n",
       "      <th>0</th>\n",
       "      <td>164.038457</td>\n",
       "      <td>29.163267</td>\n",
       "      <td>0.876194</td>\n",
       "    </tr>\n",
       "    <tr>\n",
       "      <th>1</th>\n",
       "      <td>164.236164</td>\n",
       "      <td>28.993810</td>\n",
       "      <td>0.884535</td>\n",
       "    </tr>\n",
       "    <tr>\n",
       "      <th>2</th>\n",
       "      <td>167.390821</td>\n",
       "      <td>28.735543</td>\n",
       "      <td>0.877072</td>\n",
       "    </tr>\n",
       "    <tr>\n",
       "      <th>3</th>\n",
       "      <td>163.191633</td>\n",
       "      <td>28.485504</td>\n",
       "      <td>0.875206</td>\n",
       "    </tr>\n",
       "    <tr>\n",
       "      <th>4</th>\n",
       "      <td>166.370654</td>\n",
       "      <td>28.363239</td>\n",
       "      <td>0.883108</td>\n",
       "    </tr>\n",
       "  </tbody>\n",
       "</table>\n",
       "</div>"
      ],
      "text/plain": [
       "     fit_time  score_time  test_score\n",
       "0  164.038457   29.163267    0.876194\n",
       "1  164.236164   28.993810    0.884535\n",
       "2  167.390821   28.735543    0.877072\n",
       "3  163.191633   28.485504    0.875206\n",
       "4  166.370654   28.363239    0.883108"
      ]
     },
     "metadata": {},
     "output_type": "display_data"
    },
    {
     "data": {
      "text/markdown": [
       "#### Testing Performance:"
      ],
      "text/plain": [
       "<IPython.core.display.Markdown object>"
      ]
     },
     "metadata": {},
     "output_type": "display_data"
    },
    {
     "data": {
      "text/html": [
       "<div>\n",
       "<style scoped>\n",
       "    .dataframe tbody tr th:only-of-type {\n",
       "        vertical-align: middle;\n",
       "    }\n",
       "\n",
       "    .dataframe tbody tr th {\n",
       "        vertical-align: top;\n",
       "    }\n",
       "\n",
       "    .dataframe thead th {\n",
       "        text-align: right;\n",
       "    }\n",
       "</style>\n",
       "<table border=\"1\" class=\"dataframe\">\n",
       "  <thead>\n",
       "    <tr style=\"text-align: right;\">\n",
       "      <th>truth\\pred</th>\n",
       "      <th>0</th>\n",
       "      <th>1</th>\n",
       "      <th>2</th>\n",
       "    </tr>\n",
       "  </thead>\n",
       "  <tbody>\n",
       "    <tr>\n",
       "      <th>0</th>\n",
       "      <td>9761</td>\n",
       "      <td>265</td>\n",
       "      <td>1890</td>\n",
       "    </tr>\n",
       "    <tr>\n",
       "      <th>1</th>\n",
       "      <td>461</td>\n",
       "      <td>3268</td>\n",
       "      <td>47</td>\n",
       "    </tr>\n",
       "    <tr>\n",
       "      <th>2</th>\n",
       "      <td>131</td>\n",
       "      <td>0</td>\n",
       "      <td>4177</td>\n",
       "    </tr>\n",
       "  </tbody>\n",
       "</table>\n",
       "</div>"
      ],
      "text/plain": [
       "truth\\pred     0     1     2\n",
       "0           9761   265  1890\n",
       "1            461  3268    47\n",
       "2            131     0  4177"
      ]
     },
     "metadata": {},
     "output_type": "display_data"
    },
    {
     "name": "stdout",
     "output_type": "stream",
     "text": [
      "              precision    recall  f1-score   support\n",
      "\n",
      "           0       0.94      0.82      0.88     11916\n",
      "           1       0.92      0.87      0.89      3776\n",
      "           2       0.68      0.97      0.80      4308\n",
      "\n",
      "    accuracy                           0.86     20000\n",
      "   macro avg       0.85      0.88      0.86     20000\n",
      "weighted avg       0.88      0.86      0.86     20000\n",
      "\n"
     ]
    },
    {
     "data": {
      "text/markdown": [
       "#### {'C': 5}"
      ],
      "text/plain": [
       "<IPython.core.display.Markdown object>"
      ]
     },
     "metadata": {},
     "output_type": "display_data"
    },
    {
     "data": {
      "text/markdown": [
       "#### Training Performance:"
      ],
      "text/plain": [
       "<IPython.core.display.Markdown object>"
      ]
     },
     "metadata": {},
     "output_type": "display_data"
    },
    {
     "data": {
      "text/html": [
       "<div>\n",
       "<style scoped>\n",
       "    .dataframe tbody tr th:only-of-type {\n",
       "        vertical-align: middle;\n",
       "    }\n",
       "\n",
       "    .dataframe tbody tr th {\n",
       "        vertical-align: top;\n",
       "    }\n",
       "\n",
       "    .dataframe thead th {\n",
       "        text-align: right;\n",
       "    }\n",
       "</style>\n",
       "<table border=\"1\" class=\"dataframe\">\n",
       "  <thead>\n",
       "    <tr style=\"text-align: right;\">\n",
       "      <th></th>\n",
       "      <th>fit_time</th>\n",
       "      <th>score_time</th>\n",
       "      <th>test_score</th>\n",
       "    </tr>\n",
       "  </thead>\n",
       "  <tbody>\n",
       "    <tr>\n",
       "      <th>0</th>\n",
       "      <td>128.137603</td>\n",
       "      <td>20.711776</td>\n",
       "      <td>0.902316</td>\n",
       "    </tr>\n",
       "    <tr>\n",
       "      <th>1</th>\n",
       "      <td>126.526571</td>\n",
       "      <td>20.808159</td>\n",
       "      <td>0.909121</td>\n",
       "    </tr>\n",
       "    <tr>\n",
       "      <th>2</th>\n",
       "      <td>134.333259</td>\n",
       "      <td>21.147509</td>\n",
       "      <td>0.907365</td>\n",
       "    </tr>\n",
       "    <tr>\n",
       "      <th>3</th>\n",
       "      <td>125.702542</td>\n",
       "      <td>20.711860</td>\n",
       "      <td>0.903084</td>\n",
       "    </tr>\n",
       "    <tr>\n",
       "      <th>4</th>\n",
       "      <td>137.324692</td>\n",
       "      <td>20.597887</td>\n",
       "      <td>0.911426</td>\n",
       "    </tr>\n",
       "  </tbody>\n",
       "</table>\n",
       "</div>"
      ],
      "text/plain": [
       "     fit_time  score_time  test_score\n",
       "0  128.137603   20.711776    0.902316\n",
       "1  126.526571   20.808159    0.909121\n",
       "2  134.333259   21.147509    0.907365\n",
       "3  125.702542   20.711860    0.903084\n",
       "4  137.324692   20.597887    0.911426"
      ]
     },
     "metadata": {},
     "output_type": "display_data"
    },
    {
     "data": {
      "text/markdown": [
       "#### Testing Performance:"
      ],
      "text/plain": [
       "<IPython.core.display.Markdown object>"
      ]
     },
     "metadata": {},
     "output_type": "display_data"
    },
    {
     "data": {
      "text/html": [
       "<div>\n",
       "<style scoped>\n",
       "    .dataframe tbody tr th:only-of-type {\n",
       "        vertical-align: middle;\n",
       "    }\n",
       "\n",
       "    .dataframe tbody tr th {\n",
       "        vertical-align: top;\n",
       "    }\n",
       "\n",
       "    .dataframe thead th {\n",
       "        text-align: right;\n",
       "    }\n",
       "</style>\n",
       "<table border=\"1\" class=\"dataframe\">\n",
       "  <thead>\n",
       "    <tr style=\"text-align: right;\">\n",
       "      <th>truth\\pred</th>\n",
       "      <th>0</th>\n",
       "      <th>1</th>\n",
       "      <th>2</th>\n",
       "    </tr>\n",
       "  </thead>\n",
       "  <tbody>\n",
       "    <tr>\n",
       "      <th>0</th>\n",
       "      <td>10389</td>\n",
       "      <td>314</td>\n",
       "      <td>1213</td>\n",
       "    </tr>\n",
       "    <tr>\n",
       "      <th>1</th>\n",
       "      <td>415</td>\n",
       "      <td>3340</td>\n",
       "      <td>21</td>\n",
       "    </tr>\n",
       "    <tr>\n",
       "      <th>2</th>\n",
       "      <td>88</td>\n",
       "      <td>1</td>\n",
       "      <td>4219</td>\n",
       "    </tr>\n",
       "  </tbody>\n",
       "</table>\n",
       "</div>"
      ],
      "text/plain": [
       "truth\\pred      0     1     2\n",
       "0           10389   314  1213\n",
       "1             415  3340    21\n",
       "2              88     1  4219"
      ]
     },
     "metadata": {},
     "output_type": "display_data"
    },
    {
     "name": "stdout",
     "output_type": "stream",
     "text": [
      "              precision    recall  f1-score   support\n",
      "\n",
      "           0       0.95      0.87      0.91     11916\n",
      "           1       0.91      0.88      0.90      3776\n",
      "           2       0.77      0.98      0.86      4308\n",
      "\n",
      "    accuracy                           0.90     20000\n",
      "   macro avg       0.88      0.91      0.89     20000\n",
      "weighted avg       0.91      0.90      0.90     20000\n",
      "\n"
     ]
    },
    {
     "data": {
      "text/markdown": [
       "#### {'C': 10}"
      ],
      "text/plain": [
       "<IPython.core.display.Markdown object>"
      ]
     },
     "metadata": {},
     "output_type": "display_data"
    },
    {
     "data": {
      "text/markdown": [
       "#### Training Performance:"
      ],
      "text/plain": [
       "<IPython.core.display.Markdown object>"
      ]
     },
     "metadata": {},
     "output_type": "display_data"
    },
    {
     "data": {
      "text/html": [
       "<div>\n",
       "<style scoped>\n",
       "    .dataframe tbody tr th:only-of-type {\n",
       "        vertical-align: middle;\n",
       "    }\n",
       "\n",
       "    .dataframe tbody tr th {\n",
       "        vertical-align: top;\n",
       "    }\n",
       "\n",
       "    .dataframe thead th {\n",
       "        text-align: right;\n",
       "    }\n",
       "</style>\n",
       "<table border=\"1\" class=\"dataframe\">\n",
       "  <thead>\n",
       "    <tr style=\"text-align: right;\">\n",
       "      <th></th>\n",
       "      <th>fit_time</th>\n",
       "      <th>score_time</th>\n",
       "      <th>test_score</th>\n",
       "    </tr>\n",
       "  </thead>\n",
       "  <tbody>\n",
       "    <tr>\n",
       "      <th>0</th>\n",
       "      <td>119.793507</td>\n",
       "      <td>18.491478</td>\n",
       "      <td>0.912853</td>\n",
       "    </tr>\n",
       "    <tr>\n",
       "      <th>1</th>\n",
       "      <td>135.968007</td>\n",
       "      <td>18.622570</td>\n",
       "      <td>0.919219</td>\n",
       "    </tr>\n",
       "    <tr>\n",
       "      <th>2</th>\n",
       "      <td>133.606181</td>\n",
       "      <td>18.624306</td>\n",
       "      <td>0.919438</td>\n",
       "    </tr>\n",
       "    <tr>\n",
       "      <th>3</th>\n",
       "      <td>136.597770</td>\n",
       "      <td>18.379378</td>\n",
       "      <td>0.913292</td>\n",
       "    </tr>\n",
       "    <tr>\n",
       "      <th>4</th>\n",
       "      <td>119.959949</td>\n",
       "      <td>18.147001</td>\n",
       "      <td>0.918779</td>\n",
       "    </tr>\n",
       "  </tbody>\n",
       "</table>\n",
       "</div>"
      ],
      "text/plain": [
       "     fit_time  score_time  test_score\n",
       "0  119.793507   18.491478    0.912853\n",
       "1  135.968007   18.622570    0.919219\n",
       "2  133.606181   18.624306    0.919438\n",
       "3  136.597770   18.379378    0.913292\n",
       "4  119.959949   18.147001    0.918779"
      ]
     },
     "metadata": {},
     "output_type": "display_data"
    },
    {
     "data": {
      "text/markdown": [
       "#### Testing Performance:"
      ],
      "text/plain": [
       "<IPython.core.display.Markdown object>"
      ]
     },
     "metadata": {},
     "output_type": "display_data"
    },
    {
     "data": {
      "text/html": [
       "<div>\n",
       "<style scoped>\n",
       "    .dataframe tbody tr th:only-of-type {\n",
       "        vertical-align: middle;\n",
       "    }\n",
       "\n",
       "    .dataframe tbody tr th {\n",
       "        vertical-align: top;\n",
       "    }\n",
       "\n",
       "    .dataframe thead th {\n",
       "        text-align: right;\n",
       "    }\n",
       "</style>\n",
       "<table border=\"1\" class=\"dataframe\">\n",
       "  <thead>\n",
       "    <tr style=\"text-align: right;\">\n",
       "      <th>truth\\pred</th>\n",
       "      <th>0</th>\n",
       "      <th>1</th>\n",
       "      <th>2</th>\n",
       "    </tr>\n",
       "  </thead>\n",
       "  <tbody>\n",
       "    <tr>\n",
       "      <th>0</th>\n",
       "      <td>10577</td>\n",
       "      <td>382</td>\n",
       "      <td>957</td>\n",
       "    </tr>\n",
       "    <tr>\n",
       "      <th>1</th>\n",
       "      <td>407</td>\n",
       "      <td>3355</td>\n",
       "      <td>14</td>\n",
       "    </tr>\n",
       "    <tr>\n",
       "      <th>2</th>\n",
       "      <td>76</td>\n",
       "      <td>1</td>\n",
       "      <td>4231</td>\n",
       "    </tr>\n",
       "  </tbody>\n",
       "</table>\n",
       "</div>"
      ],
      "text/plain": [
       "truth\\pred      0     1     2\n",
       "0           10577   382   957\n",
       "1             407  3355    14\n",
       "2              76     1  4231"
      ]
     },
     "metadata": {},
     "output_type": "display_data"
    },
    {
     "name": "stdout",
     "output_type": "stream",
     "text": [
      "              precision    recall  f1-score   support\n",
      "\n",
      "           0       0.96      0.89      0.92     11916\n",
      "           1       0.90      0.89      0.89      3776\n",
      "           2       0.81      0.98      0.89      4308\n",
      "\n",
      "    accuracy                           0.91     20000\n",
      "   macro avg       0.89      0.92      0.90     20000\n",
      "weighted avg       0.91      0.91      0.91     20000\n",
      "\n"
     ]
    },
    {
     "data": {
      "text/markdown": [
       "### Test size: 0.3"
      ],
      "text/plain": [
       "<IPython.core.display.Markdown object>"
      ]
     },
     "metadata": {},
     "output_type": "display_data"
    },
    {
     "data": {
      "text/markdown": [
       "#### {'C': 1}"
      ],
      "text/plain": [
       "<IPython.core.display.Markdown object>"
      ]
     },
     "metadata": {},
     "output_type": "display_data"
    },
    {
     "data": {
      "text/markdown": [
       "#### Training Performance:"
      ],
      "text/plain": [
       "<IPython.core.display.Markdown object>"
      ]
     },
     "metadata": {},
     "output_type": "display_data"
    },
    {
     "data": {
      "text/html": [
       "<div>\n",
       "<style scoped>\n",
       "    .dataframe tbody tr th:only-of-type {\n",
       "        vertical-align: middle;\n",
       "    }\n",
       "\n",
       "    .dataframe tbody tr th {\n",
       "        vertical-align: top;\n",
       "    }\n",
       "\n",
       "    .dataframe thead th {\n",
       "        text-align: right;\n",
       "    }\n",
       "</style>\n",
       "<table border=\"1\" class=\"dataframe\">\n",
       "  <thead>\n",
       "    <tr style=\"text-align: right;\">\n",
       "      <th></th>\n",
       "      <th>fit_time</th>\n",
       "      <th>score_time</th>\n",
       "      <th>test_score</th>\n",
       "    </tr>\n",
       "  </thead>\n",
       "  <tbody>\n",
       "    <tr>\n",
       "      <th>0</th>\n",
       "      <td>124.184621</td>\n",
       "      <td>22.820486</td>\n",
       "      <td>0.876559</td>\n",
       "    </tr>\n",
       "    <tr>\n",
       "      <th>1</th>\n",
       "      <td>123.836879</td>\n",
       "      <td>22.865508</td>\n",
       "      <td>0.875561</td>\n",
       "    </tr>\n",
       "    <tr>\n",
       "      <th>2</th>\n",
       "      <td>124.530362</td>\n",
       "      <td>22.652485</td>\n",
       "      <td>0.875436</td>\n",
       "    </tr>\n",
       "    <tr>\n",
       "      <th>3</th>\n",
       "      <td>127.304084</td>\n",
       "      <td>23.439789</td>\n",
       "      <td>0.876294</td>\n",
       "    </tr>\n",
       "    <tr>\n",
       "      <th>4</th>\n",
       "      <td>128.337514</td>\n",
       "      <td>23.087257</td>\n",
       "      <td>0.868313</td>\n",
       "    </tr>\n",
       "  </tbody>\n",
       "</table>\n",
       "</div>"
      ],
      "text/plain": [
       "     fit_time  score_time  test_score\n",
       "0  124.184621   22.820486    0.876559\n",
       "1  123.836879   22.865508    0.875561\n",
       "2  124.530362   22.652485    0.875436\n",
       "3  127.304084   23.439789    0.876294\n",
       "4  128.337514   23.087257    0.868313"
      ]
     },
     "metadata": {},
     "output_type": "display_data"
    },
    {
     "data": {
      "text/markdown": [
       "#### Testing Performance:"
      ],
      "text/plain": [
       "<IPython.core.display.Markdown object>"
      ]
     },
     "metadata": {},
     "output_type": "display_data"
    },
    {
     "data": {
      "text/html": [
       "<div>\n",
       "<style scoped>\n",
       "    .dataframe tbody tr th:only-of-type {\n",
       "        vertical-align: middle;\n",
       "    }\n",
       "\n",
       "    .dataframe tbody tr th {\n",
       "        vertical-align: top;\n",
       "    }\n",
       "\n",
       "    .dataframe thead th {\n",
       "        text-align: right;\n",
       "    }\n",
       "</style>\n",
       "<table border=\"1\" class=\"dataframe\">\n",
       "  <thead>\n",
       "    <tr style=\"text-align: right;\">\n",
       "      <th>truth\\pred</th>\n",
       "      <th>0</th>\n",
       "      <th>1</th>\n",
       "      <th>2</th>\n",
       "    </tr>\n",
       "  </thead>\n",
       "  <tbody>\n",
       "    <tr>\n",
       "      <th>0</th>\n",
       "      <td>14219</td>\n",
       "      <td>577</td>\n",
       "      <td>3024</td>\n",
       "    </tr>\n",
       "    <tr>\n",
       "      <th>1</th>\n",
       "      <td>706</td>\n",
       "      <td>4796</td>\n",
       "      <td>93</td>\n",
       "    </tr>\n",
       "    <tr>\n",
       "      <th>2</th>\n",
       "      <td>226</td>\n",
       "      <td>2</td>\n",
       "      <td>6357</td>\n",
       "    </tr>\n",
       "  </tbody>\n",
       "</table>\n",
       "</div>"
      ],
      "text/plain": [
       "truth\\pred      0     1     2\n",
       "0           14219   577  3024\n",
       "1             706  4796    93\n",
       "2             226     2  6357"
      ]
     },
     "metadata": {},
     "output_type": "display_data"
    },
    {
     "name": "stdout",
     "output_type": "stream",
     "text": [
      "              precision    recall  f1-score   support\n",
      "\n",
      "           0       0.94      0.80      0.86     17820\n",
      "           1       0.89      0.86      0.87      5595\n",
      "           2       0.67      0.97      0.79      6585\n",
      "\n",
      "    accuracy                           0.85     30000\n",
      "   macro avg       0.83      0.87      0.84     30000\n",
      "weighted avg       0.87      0.85      0.85     30000\n",
      "\n"
     ]
    },
    {
     "data": {
      "text/markdown": [
       "#### {'C': 5}"
      ],
      "text/plain": [
       "<IPython.core.display.Markdown object>"
      ]
     },
     "metadata": {},
     "output_type": "display_data"
    },
    {
     "data": {
      "text/markdown": [
       "#### Training Performance:"
      ],
      "text/plain": [
       "<IPython.core.display.Markdown object>"
      ]
     },
     "metadata": {},
     "output_type": "display_data"
    },
    {
     "data": {
      "text/html": [
       "<div>\n",
       "<style scoped>\n",
       "    .dataframe tbody tr th:only-of-type {\n",
       "        vertical-align: middle;\n",
       "    }\n",
       "\n",
       "    .dataframe tbody tr th {\n",
       "        vertical-align: top;\n",
       "    }\n",
       "\n",
       "    .dataframe thead th {\n",
       "        text-align: right;\n",
       "    }\n",
       "</style>\n",
       "<table border=\"1\" class=\"dataframe\">\n",
       "  <thead>\n",
       "    <tr style=\"text-align: right;\">\n",
       "      <th></th>\n",
       "      <th>fit_time</th>\n",
       "      <th>score_time</th>\n",
       "      <th>test_score</th>\n",
       "    </tr>\n",
       "  </thead>\n",
       "  <tbody>\n",
       "    <tr>\n",
       "      <th>0</th>\n",
       "      <td>90.092665</td>\n",
       "      <td>16.335645</td>\n",
       "      <td>0.904738</td>\n",
       "    </tr>\n",
       "    <tr>\n",
       "      <th>1</th>\n",
       "      <td>90.795599</td>\n",
       "      <td>16.463020</td>\n",
       "      <td>0.901372</td>\n",
       "    </tr>\n",
       "    <tr>\n",
       "      <th>2</th>\n",
       "      <td>91.252213</td>\n",
       "      <td>16.332500</td>\n",
       "      <td>0.904863</td>\n",
       "    </tr>\n",
       "    <tr>\n",
       "      <th>3</th>\n",
       "      <td>91.754706</td>\n",
       "      <td>16.409810</td>\n",
       "      <td>0.904851</td>\n",
       "    </tr>\n",
       "    <tr>\n",
       "      <th>4</th>\n",
       "      <td>91.259218</td>\n",
       "      <td>16.161797</td>\n",
       "      <td>0.899239</td>\n",
       "    </tr>\n",
       "  </tbody>\n",
       "</table>\n",
       "</div>"
      ],
      "text/plain": [
       "    fit_time  score_time  test_score\n",
       "0  90.092665   16.335645    0.904738\n",
       "1  90.795599   16.463020    0.901372\n",
       "2  91.252213   16.332500    0.904863\n",
       "3  91.754706   16.409810    0.904851\n",
       "4  91.259218   16.161797    0.899239"
      ]
     },
     "metadata": {},
     "output_type": "display_data"
    },
    {
     "data": {
      "text/markdown": [
       "#### Testing Performance:"
      ],
      "text/plain": [
       "<IPython.core.display.Markdown object>"
      ]
     },
     "metadata": {},
     "output_type": "display_data"
    },
    {
     "data": {
      "text/html": [
       "<div>\n",
       "<style scoped>\n",
       "    .dataframe tbody tr th:only-of-type {\n",
       "        vertical-align: middle;\n",
       "    }\n",
       "\n",
       "    .dataframe tbody tr th {\n",
       "        vertical-align: top;\n",
       "    }\n",
       "\n",
       "    .dataframe thead th {\n",
       "        text-align: right;\n",
       "    }\n",
       "</style>\n",
       "<table border=\"1\" class=\"dataframe\">\n",
       "  <thead>\n",
       "    <tr style=\"text-align: right;\">\n",
       "      <th>truth\\pred</th>\n",
       "      <th>0</th>\n",
       "      <th>1</th>\n",
       "      <th>2</th>\n",
       "    </tr>\n",
       "  </thead>\n",
       "  <tbody>\n",
       "    <tr>\n",
       "      <th>0</th>\n",
       "      <td>15107</td>\n",
       "      <td>534</td>\n",
       "      <td>2179</td>\n",
       "    </tr>\n",
       "    <tr>\n",
       "      <th>1</th>\n",
       "      <td>649</td>\n",
       "      <td>4903</td>\n",
       "      <td>43</td>\n",
       "    </tr>\n",
       "    <tr>\n",
       "      <th>2</th>\n",
       "      <td>156</td>\n",
       "      <td>1</td>\n",
       "      <td>6428</td>\n",
       "    </tr>\n",
       "  </tbody>\n",
       "</table>\n",
       "</div>"
      ],
      "text/plain": [
       "truth\\pred      0     1     2\n",
       "0           15107   534  2179\n",
       "1             649  4903    43\n",
       "2             156     1  6428"
      ]
     },
     "metadata": {},
     "output_type": "display_data"
    },
    {
     "name": "stdout",
     "output_type": "stream",
     "text": [
      "              precision    recall  f1-score   support\n",
      "\n",
      "           0       0.95      0.85      0.90     17820\n",
      "           1       0.90      0.88      0.89      5595\n",
      "           2       0.74      0.98      0.84      6585\n",
      "\n",
      "    accuracy                           0.88     30000\n",
      "   macro avg       0.86      0.90      0.88     30000\n",
      "weighted avg       0.90      0.88      0.88     30000\n",
      "\n"
     ]
    },
    {
     "data": {
      "text/markdown": [
       "#### {'C': 10}"
      ],
      "text/plain": [
       "<IPython.core.display.Markdown object>"
      ]
     },
     "metadata": {},
     "output_type": "display_data"
    },
    {
     "data": {
      "text/markdown": [
       "#### Training Performance:"
      ],
      "text/plain": [
       "<IPython.core.display.Markdown object>"
      ]
     },
     "metadata": {},
     "output_type": "display_data"
    },
    {
     "data": {
      "text/html": [
       "<div>\n",
       "<style scoped>\n",
       "    .dataframe tbody tr th:only-of-type {\n",
       "        vertical-align: middle;\n",
       "    }\n",
       "\n",
       "    .dataframe tbody tr th {\n",
       "        vertical-align: top;\n",
       "    }\n",
       "\n",
       "    .dataframe thead th {\n",
       "        text-align: right;\n",
       "    }\n",
       "</style>\n",
       "<table border=\"1\" class=\"dataframe\">\n",
       "  <thead>\n",
       "    <tr style=\"text-align: right;\">\n",
       "      <th></th>\n",
       "      <th>fit_time</th>\n",
       "      <th>score_time</th>\n",
       "      <th>test_score</th>\n",
       "    </tr>\n",
       "  </thead>\n",
       "  <tbody>\n",
       "    <tr>\n",
       "      <th>0</th>\n",
       "      <td>84.538599</td>\n",
       "      <td>14.932498</td>\n",
       "      <td>0.911721</td>\n",
       "    </tr>\n",
       "    <tr>\n",
       "      <th>1</th>\n",
       "      <td>84.879532</td>\n",
       "      <td>14.617152</td>\n",
       "      <td>0.912344</td>\n",
       "    </tr>\n",
       "    <tr>\n",
       "      <th>2</th>\n",
       "      <td>84.498279</td>\n",
       "      <td>14.545146</td>\n",
       "      <td>0.911970</td>\n",
       "    </tr>\n",
       "    <tr>\n",
       "      <th>3</th>\n",
       "      <td>83.542183</td>\n",
       "      <td>14.406843</td>\n",
       "      <td>0.913705</td>\n",
       "    </tr>\n",
       "    <tr>\n",
       "      <th>4</th>\n",
       "      <td>85.667024</td>\n",
       "      <td>14.404963</td>\n",
       "      <td>0.911086</td>\n",
       "    </tr>\n",
       "  </tbody>\n",
       "</table>\n",
       "</div>"
      ],
      "text/plain": [
       "    fit_time  score_time  test_score\n",
       "0  84.538599   14.932498    0.911721\n",
       "1  84.879532   14.617152    0.912344\n",
       "2  84.498279   14.545146    0.911970\n",
       "3  83.542183   14.406843    0.913705\n",
       "4  85.667024   14.404963    0.911086"
      ]
     },
     "metadata": {},
     "output_type": "display_data"
    },
    {
     "data": {
      "text/markdown": [
       "#### Testing Performance:"
      ],
      "text/plain": [
       "<IPython.core.display.Markdown object>"
      ]
     },
     "metadata": {},
     "output_type": "display_data"
    },
    {
     "data": {
      "text/html": [
       "<div>\n",
       "<style scoped>\n",
       "    .dataframe tbody tr th:only-of-type {\n",
       "        vertical-align: middle;\n",
       "    }\n",
       "\n",
       "    .dataframe tbody tr th {\n",
       "        vertical-align: top;\n",
       "    }\n",
       "\n",
       "    .dataframe thead th {\n",
       "        text-align: right;\n",
       "    }\n",
       "</style>\n",
       "<table border=\"1\" class=\"dataframe\">\n",
       "  <thead>\n",
       "    <tr style=\"text-align: right;\">\n",
       "      <th>truth\\pred</th>\n",
       "      <th>0</th>\n",
       "      <th>1</th>\n",
       "      <th>2</th>\n",
       "    </tr>\n",
       "  </thead>\n",
       "  <tbody>\n",
       "    <tr>\n",
       "      <th>0</th>\n",
       "      <td>15523</td>\n",
       "      <td>574</td>\n",
       "      <td>1723</td>\n",
       "    </tr>\n",
       "    <tr>\n",
       "      <th>1</th>\n",
       "      <td>634</td>\n",
       "      <td>4929</td>\n",
       "      <td>32</td>\n",
       "    </tr>\n",
       "    <tr>\n",
       "      <th>2</th>\n",
       "      <td>125</td>\n",
       "      <td>1</td>\n",
       "      <td>6459</td>\n",
       "    </tr>\n",
       "  </tbody>\n",
       "</table>\n",
       "</div>"
      ],
      "text/plain": [
       "truth\\pred      0     1     2\n",
       "0           15523   574  1723\n",
       "1             634  4929    32\n",
       "2             125     1  6459"
      ]
     },
     "metadata": {},
     "output_type": "display_data"
    },
    {
     "name": "stdout",
     "output_type": "stream",
     "text": [
      "              precision    recall  f1-score   support\n",
      "\n",
      "           0       0.95      0.87      0.91     17820\n",
      "           1       0.90      0.88      0.89      5595\n",
      "           2       0.79      0.98      0.87      6585\n",
      "\n",
      "    accuracy                           0.90     30000\n",
      "   macro avg       0.88      0.91      0.89     30000\n",
      "weighted avg       0.91      0.90      0.90     30000\n",
      "\n"
     ]
    }
   ],
   "source": [
    "param_grid = ParameterGrid({\n",
    "    'C': [1, 5, 10]\n",
    "})\n",
    "train_model('svm', param_grid, datasets)"
   ]
  },
  {
   "cell_type": "markdown",
   "id": "e16a2605",
   "metadata": {
    "papermill": {
     "duration": 0.09572,
     "end_time": "2022-03-06T13:48:04.139458",
     "exception": false,
     "start_time": "2022-03-06T13:48:04.043738",
     "status": "completed"
    },
    "tags": []
   },
   "source": [
    "## MLP"
   ]
  },
  {
   "cell_type": "code",
   "execution_count": 17,
   "id": "22ffcfac",
   "metadata": {
    "execution": {
     "iopub.execute_input": "2022-03-06T13:48:04.335810Z",
     "iopub.status.busy": "2022-03-06T13:48:04.335110Z",
     "iopub.status.idle": "2022-03-06T16:33:59.731746Z",
     "shell.execute_reply": "2022-03-06T16:33:59.732967Z",
     "shell.execute_reply.started": "2022-03-05T14:40:07.195254Z"
    },
    "papermill": {
     "duration": 9955.495345,
     "end_time": "2022-03-06T16:33:59.733371",
     "exception": false,
     "start_time": "2022-03-06T13:48:04.238026",
     "status": "completed"
    },
    "tags": []
   },
   "outputs": [
    {
     "data": {
      "text/markdown": [
       "### Test size: 0.2"
      ],
      "text/plain": [
       "<IPython.core.display.Markdown object>"
      ]
     },
     "metadata": {},
     "output_type": "display_data"
    },
    {
     "data": {
      "text/markdown": [
       "#### {'hidden_layer_sizes': 256}"
      ],
      "text/plain": [
       "<IPython.core.display.Markdown object>"
      ]
     },
     "metadata": {},
     "output_type": "display_data"
    },
    {
     "name": "stderr",
     "output_type": "stream",
     "text": [
      "/opt/conda/lib/python3.7/site-packages/sklearn/neural_network/_multilayer_perceptron.py:585: ConvergenceWarning: Stochastic Optimizer: Maximum iterations (200) reached and the optimization hasn't converged yet.\n",
      "  % self.max_iter, ConvergenceWarning)\n",
      "/opt/conda/lib/python3.7/site-packages/sklearn/neural_network/_multilayer_perceptron.py:585: ConvergenceWarning: Stochastic Optimizer: Maximum iterations (200) reached and the optimization hasn't converged yet.\n",
      "  % self.max_iter, ConvergenceWarning)\n"
     ]
    },
    {
     "data": {
      "text/markdown": [
       "#### Training Performance:"
      ],
      "text/plain": [
       "<IPython.core.display.Markdown object>"
      ]
     },
     "metadata": {},
     "output_type": "display_data"
    },
    {
     "data": {
      "text/html": [
       "<div>\n",
       "<style scoped>\n",
       "    .dataframe tbody tr th:only-of-type {\n",
       "        vertical-align: middle;\n",
       "    }\n",
       "\n",
       "    .dataframe tbody tr th {\n",
       "        vertical-align: top;\n",
       "    }\n",
       "\n",
       "    .dataframe thead th {\n",
       "        text-align: right;\n",
       "    }\n",
       "</style>\n",
       "<table border=\"1\" class=\"dataframe\">\n",
       "  <thead>\n",
       "    <tr style=\"text-align: right;\">\n",
       "      <th></th>\n",
       "      <th>fit_time</th>\n",
       "      <th>score_time</th>\n",
       "      <th>test_score</th>\n",
       "    </tr>\n",
       "  </thead>\n",
       "  <tbody>\n",
       "    <tr>\n",
       "      <th>0</th>\n",
       "      <td>291.436260</td>\n",
       "      <td>0.343760</td>\n",
       "      <td>0.908682</td>\n",
       "    </tr>\n",
       "    <tr>\n",
       "      <th>1</th>\n",
       "      <td>128.575114</td>\n",
       "      <td>0.302343</td>\n",
       "      <td>0.913621</td>\n",
       "    </tr>\n",
       "    <tr>\n",
       "      <th>2</th>\n",
       "      <td>331.683448</td>\n",
       "      <td>0.487561</td>\n",
       "      <td>0.927889</td>\n",
       "    </tr>\n",
       "    <tr>\n",
       "      <th>3</th>\n",
       "      <td>344.400716</td>\n",
       "      <td>0.502531</td>\n",
       "      <td>0.915706</td>\n",
       "    </tr>\n",
       "    <tr>\n",
       "      <th>4</th>\n",
       "      <td>351.603396</td>\n",
       "      <td>0.411484</td>\n",
       "      <td>0.925804</td>\n",
       "    </tr>\n",
       "  </tbody>\n",
       "</table>\n",
       "</div>"
      ],
      "text/plain": [
       "     fit_time  score_time  test_score\n",
       "0  291.436260    0.343760    0.908682\n",
       "1  128.575114    0.302343    0.913621\n",
       "2  331.683448    0.487561    0.927889\n",
       "3  344.400716    0.502531    0.915706\n",
       "4  351.603396    0.411484    0.925804"
      ]
     },
     "metadata": {},
     "output_type": "display_data"
    },
    {
     "data": {
      "text/markdown": [
       "#### Testing Performance:"
      ],
      "text/plain": [
       "<IPython.core.display.Markdown object>"
      ]
     },
     "metadata": {},
     "output_type": "display_data"
    },
    {
     "data": {
      "text/html": [
       "<div>\n",
       "<style scoped>\n",
       "    .dataframe tbody tr th:only-of-type {\n",
       "        vertical-align: middle;\n",
       "    }\n",
       "\n",
       "    .dataframe tbody tr th {\n",
       "        vertical-align: top;\n",
       "    }\n",
       "\n",
       "    .dataframe thead th {\n",
       "        text-align: right;\n",
       "    }\n",
       "</style>\n",
       "<table border=\"1\" class=\"dataframe\">\n",
       "  <thead>\n",
       "    <tr style=\"text-align: right;\">\n",
       "      <th>truth\\pred</th>\n",
       "      <th>0</th>\n",
       "      <th>1</th>\n",
       "      <th>2</th>\n",
       "    </tr>\n",
       "  </thead>\n",
       "  <tbody>\n",
       "    <tr>\n",
       "      <th>0</th>\n",
       "      <td>11296</td>\n",
       "      <td>391</td>\n",
       "      <td>229</td>\n",
       "    </tr>\n",
       "    <tr>\n",
       "      <th>1</th>\n",
       "      <td>411</td>\n",
       "      <td>3361</td>\n",
       "      <td>4</td>\n",
       "    </tr>\n",
       "    <tr>\n",
       "      <th>2</th>\n",
       "      <td>225</td>\n",
       "      <td>0</td>\n",
       "      <td>4083</td>\n",
       "    </tr>\n",
       "  </tbody>\n",
       "</table>\n",
       "</div>"
      ],
      "text/plain": [
       "truth\\pred      0     1     2\n",
       "0           11296   391   229\n",
       "1             411  3361     4\n",
       "2             225     0  4083"
      ]
     },
     "metadata": {},
     "output_type": "display_data"
    },
    {
     "name": "stdout",
     "output_type": "stream",
     "text": [
      "              precision    recall  f1-score   support\n",
      "\n",
      "           0       0.95      0.95      0.95     11916\n",
      "           1       0.90      0.89      0.89      3776\n",
      "           2       0.95      0.95      0.95      4308\n",
      "\n",
      "    accuracy                           0.94     20000\n",
      "   macro avg       0.93      0.93      0.93     20000\n",
      "weighted avg       0.94      0.94      0.94     20000\n",
      "\n"
     ]
    },
    {
     "data": {
      "text/markdown": [
       "#### {'hidden_layer_sizes': 512}"
      ],
      "text/plain": [
       "<IPython.core.display.Markdown object>"
      ]
     },
     "metadata": {},
     "output_type": "display_data"
    },
    {
     "data": {
      "text/markdown": [
       "#### Training Performance:"
      ],
      "text/plain": [
       "<IPython.core.display.Markdown object>"
      ]
     },
     "metadata": {},
     "output_type": "display_data"
    },
    {
     "data": {
      "text/html": [
       "<div>\n",
       "<style scoped>\n",
       "    .dataframe tbody tr th:only-of-type {\n",
       "        vertical-align: middle;\n",
       "    }\n",
       "\n",
       "    .dataframe tbody tr th {\n",
       "        vertical-align: top;\n",
       "    }\n",
       "\n",
       "    .dataframe thead th {\n",
       "        text-align: right;\n",
       "    }\n",
       "</style>\n",
       "<table border=\"1\" class=\"dataframe\">\n",
       "  <thead>\n",
       "    <tr style=\"text-align: right;\">\n",
       "      <th></th>\n",
       "      <th>fit_time</th>\n",
       "      <th>score_time</th>\n",
       "      <th>test_score</th>\n",
       "    </tr>\n",
       "  </thead>\n",
       "  <tbody>\n",
       "    <tr>\n",
       "      <th>0</th>\n",
       "      <td>187.887320</td>\n",
       "      <td>0.427686</td>\n",
       "      <td>0.882779</td>\n",
       "    </tr>\n",
       "    <tr>\n",
       "      <th>1</th>\n",
       "      <td>272.480736</td>\n",
       "      <td>0.464948</td>\n",
       "      <td>0.916255</td>\n",
       "    </tr>\n",
       "    <tr>\n",
       "      <th>2</th>\n",
       "      <td>183.663935</td>\n",
       "      <td>0.467801</td>\n",
       "      <td>0.909011</td>\n",
       "    </tr>\n",
       "    <tr>\n",
       "      <th>3</th>\n",
       "      <td>329.341082</td>\n",
       "      <td>0.531129</td>\n",
       "      <td>0.828010</td>\n",
       "    </tr>\n",
       "    <tr>\n",
       "      <th>4</th>\n",
       "      <td>519.627748</td>\n",
       "      <td>0.840124</td>\n",
       "      <td>0.890572</td>\n",
       "    </tr>\n",
       "  </tbody>\n",
       "</table>\n",
       "</div>"
      ],
      "text/plain": [
       "     fit_time  score_time  test_score\n",
       "0  187.887320    0.427686    0.882779\n",
       "1  272.480736    0.464948    0.916255\n",
       "2  183.663935    0.467801    0.909011\n",
       "3  329.341082    0.531129    0.828010\n",
       "4  519.627748    0.840124    0.890572"
      ]
     },
     "metadata": {},
     "output_type": "display_data"
    },
    {
     "data": {
      "text/markdown": [
       "#### Testing Performance:"
      ],
      "text/plain": [
       "<IPython.core.display.Markdown object>"
      ]
     },
     "metadata": {},
     "output_type": "display_data"
    },
    {
     "data": {
      "text/html": [
       "<div>\n",
       "<style scoped>\n",
       "    .dataframe tbody tr th:only-of-type {\n",
       "        vertical-align: middle;\n",
       "    }\n",
       "\n",
       "    .dataframe tbody tr th {\n",
       "        vertical-align: top;\n",
       "    }\n",
       "\n",
       "    .dataframe thead th {\n",
       "        text-align: right;\n",
       "    }\n",
       "</style>\n",
       "<table border=\"1\" class=\"dataframe\">\n",
       "  <thead>\n",
       "    <tr style=\"text-align: right;\">\n",
       "      <th>truth\\pred</th>\n",
       "      <th>0</th>\n",
       "      <th>1</th>\n",
       "      <th>2</th>\n",
       "    </tr>\n",
       "  </thead>\n",
       "  <tbody>\n",
       "    <tr>\n",
       "      <th>0</th>\n",
       "      <td>10213</td>\n",
       "      <td>532</td>\n",
       "      <td>1171</td>\n",
       "    </tr>\n",
       "    <tr>\n",
       "      <th>1</th>\n",
       "      <td>392</td>\n",
       "      <td>3367</td>\n",
       "      <td>17</td>\n",
       "    </tr>\n",
       "    <tr>\n",
       "      <th>2</th>\n",
       "      <td>9</td>\n",
       "      <td>0</td>\n",
       "      <td>4299</td>\n",
       "    </tr>\n",
       "  </tbody>\n",
       "</table>\n",
       "</div>"
      ],
      "text/plain": [
       "truth\\pred      0     1     2\n",
       "0           10213   532  1171\n",
       "1             392  3367    17\n",
       "2               9     0  4299"
      ]
     },
     "metadata": {},
     "output_type": "display_data"
    },
    {
     "name": "stdout",
     "output_type": "stream",
     "text": [
      "              precision    recall  f1-score   support\n",
      "\n",
      "           0       0.96      0.86      0.91     11916\n",
      "           1       0.86      0.89      0.88      3776\n",
      "           2       0.78      1.00      0.88      4308\n",
      "\n",
      "    accuracy                           0.89     20000\n",
      "   macro avg       0.87      0.92      0.89     20000\n",
      "weighted avg       0.91      0.89      0.89     20000\n",
      "\n"
     ]
    },
    {
     "data": {
      "text/markdown": [
       "#### {'hidden_layer_sizes': 1024}"
      ],
      "text/plain": [
       "<IPython.core.display.Markdown object>"
      ]
     },
     "metadata": {},
     "output_type": "display_data"
    },
    {
     "data": {
      "text/markdown": [
       "#### Training Performance:"
      ],
      "text/plain": [
       "<IPython.core.display.Markdown object>"
      ]
     },
     "metadata": {},
     "output_type": "display_data"
    },
    {
     "data": {
      "text/html": [
       "<div>\n",
       "<style scoped>\n",
       "    .dataframe tbody tr th:only-of-type {\n",
       "        vertical-align: middle;\n",
       "    }\n",
       "\n",
       "    .dataframe tbody tr th {\n",
       "        vertical-align: top;\n",
       "    }\n",
       "\n",
       "    .dataframe thead th {\n",
       "        text-align: right;\n",
       "    }\n",
       "</style>\n",
       "<table border=\"1\" class=\"dataframe\">\n",
       "  <thead>\n",
       "    <tr style=\"text-align: right;\">\n",
       "      <th></th>\n",
       "      <th>fit_time</th>\n",
       "      <th>score_time</th>\n",
       "      <th>test_score</th>\n",
       "    </tr>\n",
       "  </thead>\n",
       "  <tbody>\n",
       "    <tr>\n",
       "      <th>0</th>\n",
       "      <td>126.591838</td>\n",
       "      <td>0.105391</td>\n",
       "      <td>0.920645</td>\n",
       "    </tr>\n",
       "    <tr>\n",
       "      <th>1</th>\n",
       "      <td>468.679843</td>\n",
       "      <td>0.946874</td>\n",
       "      <td>0.932609</td>\n",
       "    </tr>\n",
       "    <tr>\n",
       "      <th>2</th>\n",
       "      <td>496.547998</td>\n",
       "      <td>0.956378</td>\n",
       "      <td>0.933597</td>\n",
       "    </tr>\n",
       "    <tr>\n",
       "      <th>3</th>\n",
       "      <td>1212.859523</td>\n",
       "      <td>2.146674</td>\n",
       "      <td>0.881242</td>\n",
       "    </tr>\n",
       "    <tr>\n",
       "      <th>4</th>\n",
       "      <td>285.830395</td>\n",
       "      <td>0.734838</td>\n",
       "      <td>0.917792</td>\n",
       "    </tr>\n",
       "  </tbody>\n",
       "</table>\n",
       "</div>"
      ],
      "text/plain": [
       "      fit_time  score_time  test_score\n",
       "0   126.591838    0.105391    0.920645\n",
       "1   468.679843    0.946874    0.932609\n",
       "2   496.547998    0.956378    0.933597\n",
       "3  1212.859523    2.146674    0.881242\n",
       "4   285.830395    0.734838    0.917792"
      ]
     },
     "metadata": {},
     "output_type": "display_data"
    },
    {
     "data": {
      "text/markdown": [
       "#### Testing Performance:"
      ],
      "text/plain": [
       "<IPython.core.display.Markdown object>"
      ]
     },
     "metadata": {},
     "output_type": "display_data"
    },
    {
     "data": {
      "text/html": [
       "<div>\n",
       "<style scoped>\n",
       "    .dataframe tbody tr th:only-of-type {\n",
       "        vertical-align: middle;\n",
       "    }\n",
       "\n",
       "    .dataframe tbody tr th {\n",
       "        vertical-align: top;\n",
       "    }\n",
       "\n",
       "    .dataframe thead th {\n",
       "        text-align: right;\n",
       "    }\n",
       "</style>\n",
       "<table border=\"1\" class=\"dataframe\">\n",
       "  <thead>\n",
       "    <tr style=\"text-align: right;\">\n",
       "      <th>truth\\pred</th>\n",
       "      <th>0</th>\n",
       "      <th>1</th>\n",
       "      <th>2</th>\n",
       "    </tr>\n",
       "  </thead>\n",
       "  <tbody>\n",
       "    <tr>\n",
       "      <th>0</th>\n",
       "      <td>11098</td>\n",
       "      <td>453</td>\n",
       "      <td>365</td>\n",
       "    </tr>\n",
       "    <tr>\n",
       "      <th>1</th>\n",
       "      <td>378</td>\n",
       "      <td>3392</td>\n",
       "      <td>6</td>\n",
       "    </tr>\n",
       "    <tr>\n",
       "      <th>2</th>\n",
       "      <td>100</td>\n",
       "      <td>1</td>\n",
       "      <td>4207</td>\n",
       "    </tr>\n",
       "  </tbody>\n",
       "</table>\n",
       "</div>"
      ],
      "text/plain": [
       "truth\\pred      0     1     2\n",
       "0           11098   453   365\n",
       "1             378  3392     6\n",
       "2             100     1  4207"
      ]
     },
     "metadata": {},
     "output_type": "display_data"
    },
    {
     "name": "stdout",
     "output_type": "stream",
     "text": [
      "              precision    recall  f1-score   support\n",
      "\n",
      "           0       0.96      0.93      0.94     11916\n",
      "           1       0.88      0.90      0.89      3776\n",
      "           2       0.92      0.98      0.95      4308\n",
      "\n",
      "    accuracy                           0.93     20000\n",
      "   macro avg       0.92      0.94      0.93     20000\n",
      "weighted avg       0.94      0.93      0.93     20000\n",
      "\n"
     ]
    },
    {
     "data": {
      "text/markdown": [
       "### Test size: 0.3"
      ],
      "text/plain": [
       "<IPython.core.display.Markdown object>"
      ]
     },
     "metadata": {},
     "output_type": "display_data"
    },
    {
     "data": {
      "text/markdown": [
       "#### {'hidden_layer_sizes': 256}"
      ],
      "text/plain": [
       "<IPython.core.display.Markdown object>"
      ]
     },
     "metadata": {},
     "output_type": "display_data"
    },
    {
     "name": "stderr",
     "output_type": "stream",
     "text": [
      "/opt/conda/lib/python3.7/site-packages/sklearn/neural_network/_multilayer_perceptron.py:585: ConvergenceWarning: Stochastic Optimizer: Maximum iterations (200) reached and the optimization hasn't converged yet.\n",
      "  % self.max_iter, ConvergenceWarning)\n",
      "/opt/conda/lib/python3.7/site-packages/sklearn/neural_network/_multilayer_perceptron.py:585: ConvergenceWarning: Stochastic Optimizer: Maximum iterations (200) reached and the optimization hasn't converged yet.\n",
      "  % self.max_iter, ConvergenceWarning)\n"
     ]
    },
    {
     "data": {
      "text/markdown": [
       "#### Training Performance:"
      ],
      "text/plain": [
       "<IPython.core.display.Markdown object>"
      ]
     },
     "metadata": {},
     "output_type": "display_data"
    },
    {
     "data": {
      "text/html": [
       "<div>\n",
       "<style scoped>\n",
       "    .dataframe tbody tr th:only-of-type {\n",
       "        vertical-align: middle;\n",
       "    }\n",
       "\n",
       "    .dataframe tbody tr th {\n",
       "        vertical-align: top;\n",
       "    }\n",
       "\n",
       "    .dataframe thead th {\n",
       "        text-align: right;\n",
       "    }\n",
       "</style>\n",
       "<table border=\"1\" class=\"dataframe\">\n",
       "  <thead>\n",
       "    <tr style=\"text-align: right;\">\n",
       "      <th></th>\n",
       "      <th>fit_time</th>\n",
       "      <th>score_time</th>\n",
       "      <th>test_score</th>\n",
       "    </tr>\n",
       "  </thead>\n",
       "  <tbody>\n",
       "    <tr>\n",
       "      <th>0</th>\n",
       "      <td>211.818545</td>\n",
       "      <td>0.249178</td>\n",
       "      <td>0.916833</td>\n",
       "    </tr>\n",
       "    <tr>\n",
       "      <th>1</th>\n",
       "      <td>173.406471</td>\n",
       "      <td>0.221564</td>\n",
       "      <td>0.928678</td>\n",
       "    </tr>\n",
       "    <tr>\n",
       "      <th>2</th>\n",
       "      <td>252.109869</td>\n",
       "      <td>0.396253</td>\n",
       "      <td>0.931047</td>\n",
       "    </tr>\n",
       "    <tr>\n",
       "      <th>3</th>\n",
       "      <td>243.266058</td>\n",
       "      <td>0.318046</td>\n",
       "      <td>0.929044</td>\n",
       "    </tr>\n",
       "    <tr>\n",
       "      <th>4</th>\n",
       "      <td>167.054414</td>\n",
       "      <td>0.243520</td>\n",
       "      <td>0.914952</td>\n",
       "    </tr>\n",
       "  </tbody>\n",
       "</table>\n",
       "</div>"
      ],
      "text/plain": [
       "     fit_time  score_time  test_score\n",
       "0  211.818545    0.249178    0.916833\n",
       "1  173.406471    0.221564    0.928678\n",
       "2  252.109869    0.396253    0.931047\n",
       "3  243.266058    0.318046    0.929044\n",
       "4  167.054414    0.243520    0.914952"
      ]
     },
     "metadata": {},
     "output_type": "display_data"
    },
    {
     "data": {
      "text/markdown": [
       "#### Testing Performance:"
      ],
      "text/plain": [
       "<IPython.core.display.Markdown object>"
      ]
     },
     "metadata": {},
     "output_type": "display_data"
    },
    {
     "data": {
      "text/html": [
       "<div>\n",
       "<style scoped>\n",
       "    .dataframe tbody tr th:only-of-type {\n",
       "        vertical-align: middle;\n",
       "    }\n",
       "\n",
       "    .dataframe tbody tr th {\n",
       "        vertical-align: top;\n",
       "    }\n",
       "\n",
       "    .dataframe thead th {\n",
       "        text-align: right;\n",
       "    }\n",
       "</style>\n",
       "<table border=\"1\" class=\"dataframe\">\n",
       "  <thead>\n",
       "    <tr style=\"text-align: right;\">\n",
       "      <th>truth\\pred</th>\n",
       "      <th>0</th>\n",
       "      <th>1</th>\n",
       "      <th>2</th>\n",
       "    </tr>\n",
       "  </thead>\n",
       "  <tbody>\n",
       "    <tr>\n",
       "      <th>0</th>\n",
       "      <td>15913</td>\n",
       "      <td>849</td>\n",
       "      <td>1058</td>\n",
       "    </tr>\n",
       "    <tr>\n",
       "      <th>1</th>\n",
       "      <td>534</td>\n",
       "      <td>5038</td>\n",
       "      <td>23</td>\n",
       "    </tr>\n",
       "    <tr>\n",
       "      <th>2</th>\n",
       "      <td>58</td>\n",
       "      <td>2</td>\n",
       "      <td>6525</td>\n",
       "    </tr>\n",
       "  </tbody>\n",
       "</table>\n",
       "</div>"
      ],
      "text/plain": [
       "truth\\pred      0     1     2\n",
       "0           15913   849  1058\n",
       "1             534  5038    23\n",
       "2              58     2  6525"
      ]
     },
     "metadata": {},
     "output_type": "display_data"
    },
    {
     "name": "stdout",
     "output_type": "stream",
     "text": [
      "              precision    recall  f1-score   support\n",
      "\n",
      "           0       0.96      0.89      0.93     17820\n",
      "           1       0.86      0.90      0.88      5595\n",
      "           2       0.86      0.99      0.92      6585\n",
      "\n",
      "    accuracy                           0.92     30000\n",
      "   macro avg       0.89      0.93      0.91     30000\n",
      "weighted avg       0.92      0.92      0.92     30000\n",
      "\n"
     ]
    },
    {
     "data": {
      "text/markdown": [
       "#### {'hidden_layer_sizes': 512}"
      ],
      "text/plain": [
       "<IPython.core.display.Markdown object>"
      ]
     },
     "metadata": {},
     "output_type": "display_data"
    },
    {
     "data": {
      "text/markdown": [
       "#### Training Performance:"
      ],
      "text/plain": [
       "<IPython.core.display.Markdown object>"
      ]
     },
     "metadata": {},
     "output_type": "display_data"
    },
    {
     "data": {
      "text/html": [
       "<div>\n",
       "<style scoped>\n",
       "    .dataframe tbody tr th:only-of-type {\n",
       "        vertical-align: middle;\n",
       "    }\n",
       "\n",
       "    .dataframe tbody tr th {\n",
       "        vertical-align: top;\n",
       "    }\n",
       "\n",
       "    .dataframe thead th {\n",
       "        text-align: right;\n",
       "    }\n",
       "</style>\n",
       "<table border=\"1\" class=\"dataframe\">\n",
       "  <thead>\n",
       "    <tr style=\"text-align: right;\">\n",
       "      <th></th>\n",
       "      <th>fit_time</th>\n",
       "      <th>score_time</th>\n",
       "      <th>test_score</th>\n",
       "    </tr>\n",
       "  </thead>\n",
       "  <tbody>\n",
       "    <tr>\n",
       "      <th>0</th>\n",
       "      <td>251.327323</td>\n",
       "      <td>0.418798</td>\n",
       "      <td>0.865586</td>\n",
       "    </tr>\n",
       "    <tr>\n",
       "      <th>1</th>\n",
       "      <td>123.299280</td>\n",
       "      <td>0.156102</td>\n",
       "      <td>0.925062</td>\n",
       "    </tr>\n",
       "    <tr>\n",
       "      <th>2</th>\n",
       "      <td>300.084760</td>\n",
       "      <td>0.548615</td>\n",
       "      <td>0.901372</td>\n",
       "    </tr>\n",
       "    <tr>\n",
       "      <th>3</th>\n",
       "      <td>297.641335</td>\n",
       "      <td>0.483227</td>\n",
       "      <td>0.931662</td>\n",
       "    </tr>\n",
       "    <tr>\n",
       "      <th>4</th>\n",
       "      <td>237.269882</td>\n",
       "      <td>0.360077</td>\n",
       "      <td>0.914079</td>\n",
       "    </tr>\n",
       "  </tbody>\n",
       "</table>\n",
       "</div>"
      ],
      "text/plain": [
       "     fit_time  score_time  test_score\n",
       "0  251.327323    0.418798    0.865586\n",
       "1  123.299280    0.156102    0.925062\n",
       "2  300.084760    0.548615    0.901372\n",
       "3  297.641335    0.483227    0.931662\n",
       "4  237.269882    0.360077    0.914079"
      ]
     },
     "metadata": {},
     "output_type": "display_data"
    },
    {
     "data": {
      "text/markdown": [
       "#### Testing Performance:"
      ],
      "text/plain": [
       "<IPython.core.display.Markdown object>"
      ]
     },
     "metadata": {},
     "output_type": "display_data"
    },
    {
     "data": {
      "text/html": [
       "<div>\n",
       "<style scoped>\n",
       "    .dataframe tbody tr th:only-of-type {\n",
       "        vertical-align: middle;\n",
       "    }\n",
       "\n",
       "    .dataframe tbody tr th {\n",
       "        vertical-align: top;\n",
       "    }\n",
       "\n",
       "    .dataframe thead th {\n",
       "        text-align: right;\n",
       "    }\n",
       "</style>\n",
       "<table border=\"1\" class=\"dataframe\">\n",
       "  <thead>\n",
       "    <tr style=\"text-align: right;\">\n",
       "      <th>truth\\pred</th>\n",
       "      <th>0</th>\n",
       "      <th>1</th>\n",
       "      <th>2</th>\n",
       "    </tr>\n",
       "  </thead>\n",
       "  <tbody>\n",
       "    <tr>\n",
       "      <th>0</th>\n",
       "      <td>15983</td>\n",
       "      <td>617</td>\n",
       "      <td>1220</td>\n",
       "    </tr>\n",
       "    <tr>\n",
       "      <th>1</th>\n",
       "      <td>589</td>\n",
       "      <td>4981</td>\n",
       "      <td>25</td>\n",
       "    </tr>\n",
       "    <tr>\n",
       "      <th>2</th>\n",
       "      <td>47</td>\n",
       "      <td>1</td>\n",
       "      <td>6537</td>\n",
       "    </tr>\n",
       "  </tbody>\n",
       "</table>\n",
       "</div>"
      ],
      "text/plain": [
       "truth\\pred      0     1     2\n",
       "0           15983   617  1220\n",
       "1             589  4981    25\n",
       "2              47     1  6537"
      ]
     },
     "metadata": {},
     "output_type": "display_data"
    },
    {
     "name": "stdout",
     "output_type": "stream",
     "text": [
      "              precision    recall  f1-score   support\n",
      "\n",
      "           0       0.96      0.90      0.93     17820\n",
      "           1       0.89      0.89      0.89      5595\n",
      "           2       0.84      0.99      0.91      6585\n",
      "\n",
      "    accuracy                           0.92     30000\n",
      "   macro avg       0.90      0.93      0.91     30000\n",
      "weighted avg       0.92      0.92      0.92     30000\n",
      "\n"
     ]
    },
    {
     "data": {
      "text/markdown": [
       "#### {'hidden_layer_sizes': 1024}"
      ],
      "text/plain": [
       "<IPython.core.display.Markdown object>"
      ]
     },
     "metadata": {},
     "output_type": "display_data"
    },
    {
     "data": {
      "text/markdown": [
       "#### Training Performance:"
      ],
      "text/plain": [
       "<IPython.core.display.Markdown object>"
      ]
     },
     "metadata": {},
     "output_type": "display_data"
    },
    {
     "data": {
      "text/html": [
       "<div>\n",
       "<style scoped>\n",
       "    .dataframe tbody tr th:only-of-type {\n",
       "        vertical-align: middle;\n",
       "    }\n",
       "\n",
       "    .dataframe tbody tr th {\n",
       "        vertical-align: top;\n",
       "    }\n",
       "\n",
       "    .dataframe thead th {\n",
       "        text-align: right;\n",
       "    }\n",
       "</style>\n",
       "<table border=\"1\" class=\"dataframe\">\n",
       "  <thead>\n",
       "    <tr style=\"text-align: right;\">\n",
       "      <th></th>\n",
       "      <th>fit_time</th>\n",
       "      <th>score_time</th>\n",
       "      <th>test_score</th>\n",
       "    </tr>\n",
       "  </thead>\n",
       "  <tbody>\n",
       "    <tr>\n",
       "      <th>0</th>\n",
       "      <td>623.438117</td>\n",
       "      <td>1.044393</td>\n",
       "      <td>0.860599</td>\n",
       "    </tr>\n",
       "    <tr>\n",
       "      <th>1</th>\n",
       "      <td>410.221161</td>\n",
       "      <td>0.745225</td>\n",
       "      <td>0.926933</td>\n",
       "    </tr>\n",
       "    <tr>\n",
       "      <th>2</th>\n",
       "      <td>535.622451</td>\n",
       "      <td>0.960546</td>\n",
       "      <td>0.901746</td>\n",
       "    </tr>\n",
       "    <tr>\n",
       "      <th>3</th>\n",
       "      <td>301.060634</td>\n",
       "      <td>0.531323</td>\n",
       "      <td>0.931288</td>\n",
       "    </tr>\n",
       "    <tr>\n",
       "      <th>4</th>\n",
       "      <td>269.034996</td>\n",
       "      <td>0.580155</td>\n",
       "      <td>0.922060</td>\n",
       "    </tr>\n",
       "  </tbody>\n",
       "</table>\n",
       "</div>"
      ],
      "text/plain": [
       "     fit_time  score_time  test_score\n",
       "0  623.438117    1.044393    0.860599\n",
       "1  410.221161    0.745225    0.926933\n",
       "2  535.622451    0.960546    0.901746\n",
       "3  301.060634    0.531323    0.931288\n",
       "4  269.034996    0.580155    0.922060"
      ]
     },
     "metadata": {},
     "output_type": "display_data"
    },
    {
     "data": {
      "text/markdown": [
       "#### Testing Performance:"
      ],
      "text/plain": [
       "<IPython.core.display.Markdown object>"
      ]
     },
     "metadata": {},
     "output_type": "display_data"
    },
    {
     "data": {
      "text/html": [
       "<div>\n",
       "<style scoped>\n",
       "    .dataframe tbody tr th:only-of-type {\n",
       "        vertical-align: middle;\n",
       "    }\n",
       "\n",
       "    .dataframe tbody tr th {\n",
       "        vertical-align: top;\n",
       "    }\n",
       "\n",
       "    .dataframe thead th {\n",
       "        text-align: right;\n",
       "    }\n",
       "</style>\n",
       "<table border=\"1\" class=\"dataframe\">\n",
       "  <thead>\n",
       "    <tr style=\"text-align: right;\">\n",
       "      <th>truth\\pred</th>\n",
       "      <th>0</th>\n",
       "      <th>1</th>\n",
       "      <th>2</th>\n",
       "    </tr>\n",
       "  </thead>\n",
       "  <tbody>\n",
       "    <tr>\n",
       "      <th>0</th>\n",
       "      <td>16527</td>\n",
       "      <td>557</td>\n",
       "      <td>736</td>\n",
       "    </tr>\n",
       "    <tr>\n",
       "      <th>1</th>\n",
       "      <td>634</td>\n",
       "      <td>4945</td>\n",
       "      <td>16</td>\n",
       "    </tr>\n",
       "    <tr>\n",
       "      <th>2</th>\n",
       "      <td>164</td>\n",
       "      <td>1</td>\n",
       "      <td>6420</td>\n",
       "    </tr>\n",
       "  </tbody>\n",
       "</table>\n",
       "</div>"
      ],
      "text/plain": [
       "truth\\pred      0     1     2\n",
       "0           16527   557   736\n",
       "1             634  4945    16\n",
       "2             164     1  6420"
      ]
     },
     "metadata": {},
     "output_type": "display_data"
    },
    {
     "name": "stdout",
     "output_type": "stream",
     "text": [
      "              precision    recall  f1-score   support\n",
      "\n",
      "           0       0.95      0.93      0.94     17820\n",
      "           1       0.90      0.88      0.89      5595\n",
      "           2       0.90      0.97      0.93      6585\n",
      "\n",
      "    accuracy                           0.93     30000\n",
      "   macro avg       0.92      0.93      0.92     30000\n",
      "weighted avg       0.93      0.93      0.93     30000\n",
      "\n"
     ]
    }
   ],
   "source": [
    "param_grid = ParameterGrid({\n",
    "    'hidden_layer_sizes': [256, 512, 1024]\n",
    "})\n",
    "train_model('mlp', param_grid, datasets)"
   ]
  }
 ],
 "metadata": {
  "kernelspec": {
   "display_name": "Python 3",
   "language": "python",
   "name": "python3"
  },
  "language_info": {
   "codemirror_mode": {
    "name": "ipython",
    "version": 3
   },
   "file_extension": ".py",
   "mimetype": "text/x-python",
   "name": "python",
   "nbconvert_exporter": "python",
   "pygments_lexer": "ipython3",
   "version": "3.7.12"
  },
  "papermill": {
   "default_parameters": {},
   "duration": 16984.054944,
   "end_time": "2022-03-06T16:34:01.128179",
   "environment_variables": {},
   "exception": null,
   "input_path": "__notebook__.ipynb",
   "output_path": "__notebook__.ipynb",
   "parameters": {},
   "start_time": "2022-03-06T11:50:57.073235",
   "version": "2.3.3"
  }
 },
 "nbformat": 4,
 "nbformat_minor": 5
}
